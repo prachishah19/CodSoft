{"cells":[{"cell_type":"code","execution_count":8,"metadata":{"executionInfo":{"elapsed":1157,"status":"ok","timestamp":1715839329842,"user":{"displayName":"Prachi Shah","userId":"10663630855632473570"},"user_tz":-330},"id":"i7macmyJ9VN5"},"outputs":[],"source":["import numpy as np\n","import pandas as pd\n","from matplotlib import pyplot as plt\n","import seaborn as sns"]},{"cell_type":"code","execution_count":2,"metadata":{"colab":{"base_uri":"https://localhost:8080/","height":206},"executionInfo":{"elapsed":828,"status":"ok","timestamp":1715838797155,"user":{"displayName":"Prachi Shah","userId":"10663630855632473570"},"user_tz":-330},"id":"Z7EFhLBg9jKc","outputId":"c66b22a8-4f4c-47ee-bcb1-6f616162c958"},"outputs":[{"data":{"application/vnd.google.colaboratory.intrinsic+json":{"summary":"{\n  \"name\": \"data\",\n  \"rows\": 891,\n  \"fields\": [\n    {\n      \"column\": \"PassengerId\",\n      \"properties\": {\n        \"dtype\": \"number\",\n        \"std\": 257,\n        \"min\": 1,\n        \"max\": 891,\n        \"num_unique_values\": 891,\n        \"samples\": [\n          710,\n          440,\n          841\n        ],\n        \"semantic_type\": \"\",\n        \"description\": \"\"\n      }\n    },\n    {\n      \"column\": \"Survived\",\n      \"properties\": {\n        \"dtype\": \"number\",\n        \"std\": 0,\n        \"min\": 0,\n        \"max\": 1,\n        \"num_unique_values\": 2,\n        \"samples\": [\n          1,\n          0\n        ],\n        \"semantic_type\": \"\",\n        \"description\": \"\"\n      }\n    },\n    {\n      \"column\": \"Pclass\",\n      \"properties\": {\n        \"dtype\": \"number\",\n        \"std\": 0,\n        \"min\": 1,\n        \"max\": 3,\n        \"num_unique_values\": 3,\n        \"samples\": [\n          3,\n          1\n        ],\n        \"semantic_type\": \"\",\n        \"description\": \"\"\n      }\n    },\n    {\n      \"column\": \"Name\",\n      \"properties\": {\n        \"dtype\": \"string\",\n        \"num_unique_values\": 891,\n        \"samples\": [\n          \"Moubarek, Master. Halim Gonios (\\\"William George\\\")\",\n          \"Kvillner, Mr. Johan Henrik Johannesson\"\n        ],\n        \"semantic_type\": \"\",\n        \"description\": \"\"\n      }\n    },\n    {\n      \"column\": \"Sex\",\n      \"properties\": {\n        \"dtype\": \"category\",\n        \"num_unique_values\": 2,\n        \"samples\": [\n          \"female\",\n          \"male\"\n        ],\n        \"semantic_type\": \"\",\n        \"description\": \"\"\n      }\n    },\n    {\n      \"column\": \"Age\",\n      \"properties\": {\n        \"dtype\": \"number\",\n        \"std\": 14.526497332334042,\n        \"min\": 0.42,\n        \"max\": 80.0,\n        \"num_unique_values\": 88,\n        \"samples\": [\n          0.75,\n          22.0\n        ],\n        \"semantic_type\": \"\",\n        \"description\": \"\"\n      }\n    },\n    {\n      \"column\": \"SibSp\",\n      \"properties\": {\n        \"dtype\": \"number\",\n        \"std\": 1,\n        \"min\": 0,\n        \"max\": 8,\n        \"num_unique_values\": 7,\n        \"samples\": [\n          1,\n          0\n        ],\n        \"semantic_type\": \"\",\n        \"description\": \"\"\n      }\n    },\n    {\n      \"column\": \"Parch\",\n      \"properties\": {\n        \"dtype\": \"number\",\n        \"std\": 0,\n        \"min\": 0,\n        \"max\": 6,\n        \"num_unique_values\": 7,\n        \"samples\": [\n          0,\n          1\n        ],\n        \"semantic_type\": \"\",\n        \"description\": \"\"\n      }\n    },\n    {\n      \"column\": \"Ticket\",\n      \"properties\": {\n        \"dtype\": \"string\",\n        \"num_unique_values\": 681,\n        \"samples\": [\n          \"11774\",\n          \"248740\"\n        ],\n        \"semantic_type\": \"\",\n        \"description\": \"\"\n      }\n    },\n    {\n      \"column\": \"Fare\",\n      \"properties\": {\n        \"dtype\": \"number\",\n        \"std\": 49.6934285971809,\n        \"min\": 0.0,\n        \"max\": 512.3292,\n        \"num_unique_values\": 248,\n        \"samples\": [\n          11.2417,\n          51.8625\n        ],\n        \"semantic_type\": \"\",\n        \"description\": \"\"\n      }\n    },\n    {\n      \"column\": \"Cabin\",\n      \"properties\": {\n        \"dtype\": \"category\",\n        \"num_unique_values\": 147,\n        \"samples\": [\n          \"D45\",\n          \"B49\"\n        ],\n        \"semantic_type\": \"\",\n        \"description\": \"\"\n      }\n    },\n    {\n      \"column\": \"Embarked\",\n      \"properties\": {\n        \"dtype\": \"category\",\n        \"num_unique_values\": 3,\n        \"samples\": [\n          \"S\",\n          \"C\"\n        ],\n        \"semantic_type\": \"\",\n        \"description\": \"\"\n      }\n    }\n  ]\n}","type":"dataframe","variable_name":"data"},"text/html":["\n","  <div id=\"df-b260c1d6-a9a7-49e3-aabc-c500d6c85809\" class=\"colab-df-container\">\n","    <div>\n","<style scoped>\n","    .dataframe tbody tr th:only-of-type {\n","        vertical-align: middle;\n","    }\n","\n","    .dataframe tbody tr th {\n","        vertical-align: top;\n","    }\n","\n","    .dataframe thead th {\n","        text-align: right;\n","    }\n","</style>\n","<table border=\"1\" class=\"dataframe\">\n","  <thead>\n","    <tr style=\"text-align: right;\">\n","      <th></th>\n","      <th>PassengerId</th>\n","      <th>Survived</th>\n","      <th>Pclass</th>\n","      <th>Name</th>\n","      <th>Sex</th>\n","      <th>Age</th>\n","      <th>SibSp</th>\n","      <th>Parch</th>\n","      <th>Ticket</th>\n","      <th>Fare</th>\n","      <th>Cabin</th>\n","      <th>Embarked</th>\n","    </tr>\n","  </thead>\n","  <tbody>\n","    <tr>\n","      <th>0</th>\n","      <td>1</td>\n","      <td>0</td>\n","      <td>3</td>\n","      <td>Braund, Mr. Owen Harris</td>\n","      <td>male</td>\n","      <td>22.0</td>\n","      <td>1</td>\n","      <td>0</td>\n","      <td>A/5 21171</td>\n","      <td>7.2500</td>\n","      <td>NaN</td>\n","      <td>S</td>\n","    </tr>\n","    <tr>\n","      <th>1</th>\n","      <td>2</td>\n","      <td>1</td>\n","      <td>1</td>\n","      <td>Cumings, Mrs. John Bradley (Florence Briggs Th...</td>\n","      <td>female</td>\n","      <td>38.0</td>\n","      <td>1</td>\n","      <td>0</td>\n","      <td>PC 17599</td>\n","      <td>71.2833</td>\n","      <td>C85</td>\n","      <td>C</td>\n","    </tr>\n","    <tr>\n","      <th>2</th>\n","      <td>3</td>\n","      <td>1</td>\n","      <td>3</td>\n","      <td>Heikkinen, Miss. Laina</td>\n","      <td>female</td>\n","      <td>26.0</td>\n","      <td>0</td>\n","      <td>0</td>\n","      <td>STON/O2. 3101282</td>\n","      <td>7.9250</td>\n","      <td>NaN</td>\n","      <td>S</td>\n","    </tr>\n","    <tr>\n","      <th>3</th>\n","      <td>4</td>\n","      <td>1</td>\n","      <td>1</td>\n","      <td>Futrelle, Mrs. Jacques Heath (Lily May Peel)</td>\n","      <td>female</td>\n","      <td>35.0</td>\n","      <td>1</td>\n","      <td>0</td>\n","      <td>113803</td>\n","      <td>53.1000</td>\n","      <td>C123</td>\n","      <td>S</td>\n","    </tr>\n","    <tr>\n","      <th>4</th>\n","      <td>5</td>\n","      <td>0</td>\n","      <td>3</td>\n","      <td>Allen, Mr. William Henry</td>\n","      <td>male</td>\n","      <td>35.0</td>\n","      <td>0</td>\n","      <td>0</td>\n","      <td>373450</td>\n","      <td>8.0500</td>\n","      <td>NaN</td>\n","      <td>S</td>\n","    </tr>\n","  </tbody>\n","</table>\n","</div>\n","    <div class=\"colab-df-buttons\">\n","\n","  <div class=\"colab-df-container\">\n","    <button class=\"colab-df-convert\" onclick=\"convertToInteractive('df-b260c1d6-a9a7-49e3-aabc-c500d6c85809')\"\n","            title=\"Convert this dataframe to an interactive table.\"\n","            style=\"display:none;\">\n","\n","  <svg xmlns=\"http://www.w3.org/2000/svg\" height=\"24px\" viewBox=\"0 -960 960 960\">\n","    <path d=\"M120-120v-720h720v720H120Zm60-500h600v-160H180v160Zm220 220h160v-160H400v160Zm0 220h160v-160H400v160ZM180-400h160v-160H180v160Zm440 0h160v-160H620v160ZM180-180h160v-160H180v160Zm440 0h160v-160H620v160Z\"/>\n","  </svg>\n","    </button>\n","\n","  <style>\n","    .colab-df-container {\n","      display:flex;\n","      gap: 12px;\n","    }\n","\n","    .colab-df-convert {\n","      background-color: #E8F0FE;\n","      border: none;\n","      border-radius: 50%;\n","      cursor: pointer;\n","      display: none;\n","      fill: #1967D2;\n","      height: 32px;\n","      padding: 0 0 0 0;\n","      width: 32px;\n","    }\n","\n","    .colab-df-convert:hover {\n","      background-color: #E2EBFA;\n","      box-shadow: 0px 1px 2px rgba(60, 64, 67, 0.3), 0px 1px 3px 1px rgba(60, 64, 67, 0.15);\n","      fill: #174EA6;\n","    }\n","\n","    .colab-df-buttons div {\n","      margin-bottom: 4px;\n","    }\n","\n","    [theme=dark] .colab-df-convert {\n","      background-color: #3B4455;\n","      fill: #D2E3FC;\n","    }\n","\n","    [theme=dark] .colab-df-convert:hover {\n","      background-color: #434B5C;\n","      box-shadow: 0px 1px 3px 1px rgba(0, 0, 0, 0.15);\n","      filter: drop-shadow(0px 1px 2px rgba(0, 0, 0, 0.3));\n","      fill: #FFFFFF;\n","    }\n","  </style>\n","\n","    <script>\n","      const buttonEl =\n","        document.querySelector('#df-b260c1d6-a9a7-49e3-aabc-c500d6c85809 button.colab-df-convert');\n","      buttonEl.style.display =\n","        google.colab.kernel.accessAllowed ? 'block' : 'none';\n","\n","      async function convertToInteractive(key) {\n","        const element = document.querySelector('#df-b260c1d6-a9a7-49e3-aabc-c500d6c85809');\n","        const dataTable =\n","          await google.colab.kernel.invokeFunction('convertToInteractive',\n","                                                    [key], {});\n","        if (!dataTable) return;\n","\n","        const docLinkHtml = 'Like what you see? Visit the ' +\n","          '<a target=\"_blank\" href=https://colab.research.google.com/notebooks/data_table.ipynb>data table notebook</a>'\n","          + ' to learn more about interactive tables.';\n","        element.innerHTML = '';\n","        dataTable['output_type'] = 'display_data';\n","        await google.colab.output.renderOutput(dataTable, element);\n","        const docLink = document.createElement('div');\n","        docLink.innerHTML = docLinkHtml;\n","        element.appendChild(docLink);\n","      }\n","    </script>\n","  </div>\n","\n","\n","<div id=\"df-15ecca5d-60bd-4925-80fd-29145a73b79e\">\n","  <button class=\"colab-df-quickchart\" onclick=\"quickchart('df-15ecca5d-60bd-4925-80fd-29145a73b79e')\"\n","            title=\"Suggest charts\"\n","            style=\"display:none;\">\n","\n","<svg xmlns=\"http://www.w3.org/2000/svg\" height=\"24px\"viewBox=\"0 0 24 24\"\n","     width=\"24px\">\n","    <g>\n","        <path d=\"M19 3H5c-1.1 0-2 .9-2 2v14c0 1.1.9 2 2 2h14c1.1 0 2-.9 2-2V5c0-1.1-.9-2-2-2zM9 17H7v-7h2v7zm4 0h-2V7h2v10zm4 0h-2v-4h2v4z\"/>\n","    </g>\n","</svg>\n","  </button>\n","\n","<style>\n","  .colab-df-quickchart {\n","      --bg-color: #E8F0FE;\n","      --fill-color: #1967D2;\n","      --hover-bg-color: #E2EBFA;\n","      --hover-fill-color: #174EA6;\n","      --disabled-fill-color: #AAA;\n","      --disabled-bg-color: #DDD;\n","  }\n","\n","  [theme=dark] .colab-df-quickchart {\n","      --bg-color: #3B4455;\n","      --fill-color: #D2E3FC;\n","      --hover-bg-color: #434B5C;\n","      --hover-fill-color: #FFFFFF;\n","      --disabled-bg-color: #3B4455;\n","      --disabled-fill-color: #666;\n","  }\n","\n","  .colab-df-quickchart {\n","    background-color: var(--bg-color);\n","    border: none;\n","    border-radius: 50%;\n","    cursor: pointer;\n","    display: none;\n","    fill: var(--fill-color);\n","    height: 32px;\n","    padding: 0;\n","    width: 32px;\n","  }\n","\n","  .colab-df-quickchart:hover {\n","    background-color: var(--hover-bg-color);\n","    box-shadow: 0 1px 2px rgba(60, 64, 67, 0.3), 0 1px 3px 1px rgba(60, 64, 67, 0.15);\n","    fill: var(--button-hover-fill-color);\n","  }\n","\n","  .colab-df-quickchart-complete:disabled,\n","  .colab-df-quickchart-complete:disabled:hover {\n","    background-color: var(--disabled-bg-color);\n","    fill: var(--disabled-fill-color);\n","    box-shadow: none;\n","  }\n","\n","  .colab-df-spinner {\n","    border: 2px solid var(--fill-color);\n","    border-color: transparent;\n","    border-bottom-color: var(--fill-color);\n","    animation:\n","      spin 1s steps(1) infinite;\n","  }\n","\n","  @keyframes spin {\n","    0% {\n","      border-color: transparent;\n","      border-bottom-color: var(--fill-color);\n","      border-left-color: var(--fill-color);\n","    }\n","    20% {\n","      border-color: transparent;\n","      border-left-color: var(--fill-color);\n","      border-top-color: var(--fill-color);\n","    }\n","    30% {\n","      border-color: transparent;\n","      border-left-color: var(--fill-color);\n","      border-top-color: var(--fill-color);\n","      border-right-color: var(--fill-color);\n","    }\n","    40% {\n","      border-color: transparent;\n","      border-right-color: var(--fill-color);\n","      border-top-color: var(--fill-color);\n","    }\n","    60% {\n","      border-color: transparent;\n","      border-right-color: var(--fill-color);\n","    }\n","    80% {\n","      border-color: transparent;\n","      border-right-color: var(--fill-color);\n","      border-bottom-color: var(--fill-color);\n","    }\n","    90% {\n","      border-color: transparent;\n","      border-bottom-color: var(--fill-color);\n","    }\n","  }\n","</style>\n","\n","  <script>\n","    async function quickchart(key) {\n","      const quickchartButtonEl =\n","        document.querySelector('#' + key + ' button');\n","      quickchartButtonEl.disabled = true;  // To prevent multiple clicks.\n","      quickchartButtonEl.classList.add('colab-df-spinner');\n","      try {\n","        const charts = await google.colab.kernel.invokeFunction(\n","            'suggestCharts', [key], {});\n","      } catch (error) {\n","        console.error('Error during call to suggestCharts:', error);\n","      }\n","      quickchartButtonEl.classList.remove('colab-df-spinner');\n","      quickchartButtonEl.classList.add('colab-df-quickchart-complete');\n","    }\n","    (() => {\n","      let quickchartButtonEl =\n","        document.querySelector('#df-15ecca5d-60bd-4925-80fd-29145a73b79e button');\n","      quickchartButtonEl.style.display =\n","        google.colab.kernel.accessAllowed ? 'block' : 'none';\n","    })();\n","  </script>\n","</div>\n","\n","    </div>\n","  </div>\n"],"text/plain":["   PassengerId  Survived  Pclass  \\\n","0            1         0       3   \n","1            2         1       1   \n","2            3         1       3   \n","3            4         1       1   \n","4            5         0       3   \n","\n","                                                Name     Sex   Age  SibSp  \\\n","0                            Braund, Mr. Owen Harris    male  22.0      1   \n","1  Cumings, Mrs. John Bradley (Florence Briggs Th...  female  38.0      1   \n","2                             Heikkinen, Miss. Laina  female  26.0      0   \n","3       Futrelle, Mrs. Jacques Heath (Lily May Peel)  female  35.0      1   \n","4                           Allen, Mr. William Henry    male  35.0      0   \n","\n","   Parch            Ticket     Fare Cabin Embarked  \n","0      0         A/5 21171   7.2500   NaN        S  \n","1      0          PC 17599  71.2833   C85        C  \n","2      0  STON/O2. 3101282   7.9250   NaN        S  \n","3      0            113803  53.1000  C123        S  \n","4      0            373450   8.0500   NaN        S  "]},"execution_count":2,"metadata":{},"output_type":"execute_result"}],"source":["data=pd.read_csv('Titanic-Dataset.csv')\n","data.head()"]},{"cell_type":"code","execution_count":3,"metadata":{"colab":{"base_uri":"https://localhost:8080/"},"executionInfo":{"elapsed":590,"status":"ok","timestamp":1715838814298,"user":{"displayName":"Prachi Shah","userId":"10663630855632473570"},"user_tz":-330},"id":"Y8Lukz0q9kiC","outputId":"20646d5f-e907-4fa4-88d8-4ba72bf72729"},"outputs":[{"data":{"text/plain":["(891, 12)"]},"execution_count":3,"metadata":{},"output_type":"execute_result"}],"source":["data.shape"]},{"cell_type":"code","execution_count":4,"metadata":{"colab":{"base_uri":"https://localhost:8080/"},"executionInfo":{"elapsed":799,"status":"ok","timestamp":1715838841161,"user":{"displayName":"Prachi Shah","userId":"10663630855632473570"},"user_tz":-330},"id":"N9gngZtV9mZA","outputId":"bf28f371-01b0-4f16-f767-47be8da57127"},"outputs":[{"name":"stdout","output_type":"stream","text":["<class 'pandas.core.frame.DataFrame'>\n","RangeIndex: 891 entries, 0 to 890\n","Data columns (total 12 columns):\n"," #   Column       Non-Null Count  Dtype  \n","---  ------       --------------  -----  \n"," 0   PassengerId  891 non-null    int64  \n"," 1   Survived     891 non-null    int64  \n"," 2   Pclass       891 non-null    int64  \n"," 3   Name         891 non-null    object \n"," 4   Sex          891 non-null    object \n"," 5   Age          714 non-null    float64\n"," 6   SibSp        891 non-null    int64  \n"," 7   Parch        891 non-null    int64  \n"," 8   Ticket       891 non-null    object \n"," 9   Fare         891 non-null    float64\n"," 10  Cabin        204 non-null    object \n"," 11  Embarked     889 non-null    object \n","dtypes: float64(2), int64(5), object(5)\n","memory usage: 83.7+ KB\n"]}],"source":["data.info()"]},{"cell_type":"code","execution_count":5,"metadata":{"colab":{"base_uri":"https://localhost:8080/"},"executionInfo":{"elapsed":650,"status":"ok","timestamp":1715838880734,"user":{"displayName":"Prachi Shah","userId":"10663630855632473570"},"user_tz":-330},"id":"_9LoRXbZ9yAM","outputId":"0e209c7f-31f0-415a-a66c-2ba27080a12c"},"outputs":[{"data":{"text/plain":["PassengerId      0\n","Survived         0\n","Pclass           0\n","Name             0\n","Sex              0\n","Age            177\n","SibSp            0\n","Parch            0\n","Ticket           0\n","Fare             0\n","Cabin          687\n","Embarked         2\n","dtype: int64"]},"execution_count":5,"metadata":{},"output_type":"execute_result"}],"source":["#displaying null values\n","data.isnull().sum()"]},{"cell_type":"code","execution_count":6,"metadata":{"colab":{"base_uri":"https://localhost:8080/"},"executionInfo":{"elapsed":670,"status":"ok","timestamp":1715838915072,"user":{"displayName":"Prachi Shah","userId":"10663630855632473570"},"user_tz":-330},"id":"TZUiL8fl97oL","outputId":"758342fe-074f-4208-f272-853afd953d03"},"outputs":[{"data":{"text/plain":["0"]},"execution_count":6,"metadata":{},"output_type":"execute_result"}],"source":["data.duplicated().sum()"]},{"cell_type":"code","execution_count":7,"metadata":{"colab":{"base_uri":"https://localhost:8080/"},"executionInfo":{"elapsed":22,"status":"ok","timestamp":1715839099206,"user":{"displayName":"Prachi Shah","userId":"10663630855632473570"},"user_tz":-330},"id":"rTZQBaPI-BqW","outputId":"fa0e7873-ddb1-4bef-c0b4-2148a3a70d90"},"outputs":[{"name":"stdout","output_type":"stream","text":["0.6229508196721312\n","Survived : 342 \n","Non_Survived : 549 \n"]}],"source":["Survived = data[data[\"Survived\"]==1]\n","Non_Survived = data[data[\"Survived\"]==0]\n","outlier = len(Survived)/float(len(Non_Survived))\n","print(outlier)\n","print(\"Survived : {} \".format(len(Survived)))\n","print(\"Non_Survived : {} \".format(len(Non_Survived)))"]},{"cell_type":"code","execution_count":13,"metadata":{"colab":{"base_uri":"https://localhost:8080/","height":643},"executionInfo":{"elapsed":624,"status":"ok","timestamp":1715839699846,"user":{"displayName":"Prachi Shah","userId":"10663630855632473570"},"user_tz":-330},"id":"Nm_YPymg__ry","outputId":"7dfd7817-a869-4aae-ac70-8bde40eea8dc"},"outputs":[{"data":{"text/html":["<div style=\"max-width:800px; border: 1px solid var(--colab-border-color);\"><style>\n","      pre.function-repr-contents {\n","        overflow-x: auto;\n","        padding: 8px 12px;\n","        max-height: 500px;\n","      }\n","\n","      pre.function-repr-contents.function-repr-contents-collapsed {\n","        cursor: pointer;\n","        max-height: 100px;\n","      }\n","    </style>\n","    <pre style=\"white-space: initial; background:\n","         var(--colab-secondary-surface-color); padding: 8px 12px;\n","         border-bottom: 1px solid var(--colab-border-color);\"><b>matplotlib.pyplot.show</b><br/>def show(*args, **kwargs)</pre><pre class=\"function-repr-contents function-repr-contents-collapsed\" style=\"\"><a class=\"filepath\" style=\"display:none\" href=\"#\">/usr/local/lib/python3.10/dist-packages/matplotlib/pyplot.py</a>Display all open figures.\n","\n","Parameters\n","----------\n","block : bool, optional\n","    Whether to wait for all figures to be closed before returning.\n","\n","    If `True` block and run the GUI main loop until all figure windows\n","    are closed.\n","\n","    If `False` ensure that all figure windows are displayed and return\n","    immediately.  In this case, you are responsible for ensuring\n","    that the event loop is running to have responsive figures.\n","\n","    Defaults to True in non-interactive mode and to False in interactive\n","    mode (see `.pyplot.isinteractive`).\n","\n","See Also\n","--------\n","ion : Enable interactive mode, which shows / updates the figure after\n","      every plotting command, so that calling ``show()`` is not necessary.\n","ioff : Disable interactive mode.\n","savefig : Save the figure to an image file instead of showing it on screen.\n","\n","Notes\n","-----\n","**Saving figures to file and showing a window at the same time**\n","\n","If you want an image file as well as a user interface window, use\n","`.pyplot.savefig` before `.pyplot.show`. At the end of (a blocking)\n","``show()`` the figure is closed and thus unregistered from pyplot. Calling\n","`.pyplot.savefig` afterwards would save a new and thus empty figure. This\n","limitation of command order does not apply if the show is non-blocking or\n","if you keep a reference to the figure and use `.Figure.savefig`.\n","\n","**Auto-show in jupyter notebooks**\n","\n","The jupyter backends (activated via ``%matplotlib inline``,\n","``%matplotlib notebook``, or ``%matplotlib widget``), call ``show()`` at\n","the end of every cell by default. Thus, you usually don&#x27;t have to call it\n","explicitly there.</pre>\n","      <script>\n","      if (google.colab.kernel.accessAllowed && google.colab.files && google.colab.files.view) {\n","        for (const element of document.querySelectorAll('.filepath')) {\n","          element.style.display = 'block'\n","          element.onclick = (event) => {\n","            event.preventDefault();\n","            event.stopPropagation();\n","            google.colab.files.view(element.textContent, 401);\n","          };\n","        }\n","      }\n","      for (const element of document.querySelectorAll('.function-repr-contents')) {\n","        element.onclick = (event) => {\n","          event.preventDefault();\n","          event.stopPropagation();\n","          element.classList.toggle('function-repr-contents-collapsed');\n","        };\n","      }\n","      </script>\n","      </div>"],"text/plain":["<function matplotlib.pyplot.show(close=None, block=None)>"]},"execution_count":13,"metadata":{},"output_type":"execute_result"},{"data":{"image/png":"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","text/plain":["<Figure size 640x480 with 1 Axes>"]},"metadata":{},"output_type":"display_data"}],"source":["Survived=data['Survived'].value_counts()\n","plt.bar(Survived.index, Survived.values)\n","plt.xlabel('Survived')\n","plt.ylabel('Count')\n","plt.title('Survivours')\n","plt.xticks([0,1],['No','Yes'])\n","plt.show"]},{"cell_type":"code","execution_count":15,"metadata":{"colab":{"base_uri":"https://localhost:8080/","height":489},"executionInfo":{"elapsed":1405,"status":"ok","timestamp":1715839787355,"user":{"displayName":"Prachi Shah","userId":"10663630855632473570"},"user_tz":-330},"id":"ycUecYs3-xDx","outputId":"65dc240d-5bd8-4cc8-a658-21a82398fd9b"},"outputs":[{"data":{"text/plain":["Text(0.5, 1.0, 'Survivors by Gender')"]},"execution_count":15,"metadata":{},"output_type":"execute_result"},{"data":{"image/png":"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","text/plain":["<Figure size 640x480 with 1 Axes>"]},"metadata":{},"output_type":"display_data"}],"source":["sns.countplot(x=data['Survived'], hue = data['Sex'])\n","plt.title('Survivors by Gender')"]},{"cell_type":"code","execution_count":16,"metadata":{"colab":{"base_uri":"https://localhost:8080/","height":466},"executionInfo":{"elapsed":1153,"status":"ok","timestamp":1715840093369,"user":{"displayName":"Prachi Shah","userId":"10663630855632473570"},"user_tz":-330},"id":"abibd4cnBaHY","outputId":"1433f9b8-56ba-49aa-a3ed-9a8a318d7a17"},"outputs":[{"data":{"text/plain":["<Axes: xlabel='Survived', ylabel='count'>"]},"execution_count":16,"metadata":{},"output_type":"execute_result"},{"data":{"image/png":"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","text/plain":["<Figure size 640x480 with 1 Axes>"]},"metadata":{},"output_type":"display_data"}],"source":["sns.countplot(x=data['Survived'], hue = data['Pclass'])"]},{"cell_type":"code","execution_count":38,"metadata":{"colab":{"base_uri":"https://localhost:8080/"},"executionInfo":{"elapsed":664,"status":"ok","timestamp":1715841765122,"user":{"displayName":"Prachi Shah","userId":"10663630855632473570"},"user_tz":-330},"id":"-SaBcLzQISju","outputId":"4054312a-a640-4c94-ddb6-bad1cef41d5a"},"outputs":[{"name":"stdout","output_type":"stream","text":["   Survived  Pclass   Age  SibSp  Parch     Fare  Sex_0  Sex_1  Embarked_0.0  \\\n","0         0       3  22.0      1      0   7.2500   True  False          True   \n","1         1       1  38.0      1      0  71.2833  False   True         False   \n","2         1       3  26.0      0      0   7.9250  False   True          True   \n","3         1       1  35.0      1      0  53.1000  False   True          True   \n","4         0       3  35.0      0      0   8.0500   True  False          True   \n","\n","   Embarked_1.0  Embarked_2.0  \n","0         False         False  \n","1          True         False  \n","2         False         False  \n","3         False         False  \n","4         False         False  \n"]}],"source":["import pandas as pd\n","data= pd.get_dummies(data,columns=['Sex', 'Embarked'])\n","print(data.head())"]},{"cell_type":"code","execution_count":40,"metadata":{"colab":{"base_uri":"https://localhost:8080/","height":206},"executionInfo":{"elapsed":19,"status":"ok","timestamp":1715841875768,"user":{"displayName":"Prachi Shah","userId":"10663630855632473570"},"user_tz":-330},"id":"19hNxeKpJRqZ","outputId":"d567a896-5993-431c-a05c-cc087705bcc7"},"outputs":[{"data":{"application/vnd.google.colaboratory.intrinsic+json":{"summary":"{\n  \"name\": \"data\",\n  \"rows\": 891,\n  \"fields\": [\n    {\n      \"column\": \"Survived\",\n      \"properties\": {\n        \"dtype\": \"number\",\n        \"std\": 0,\n        \"min\": 0,\n        \"max\": 1,\n        \"num_unique_values\": 2,\n        \"samples\": [\n          1,\n          0\n        ],\n        \"semantic_type\": \"\",\n        \"description\": \"\"\n      }\n    },\n    {\n      \"column\": \"Pclass\",\n      \"properties\": {\n        \"dtype\": \"number\",\n        \"std\": 0,\n        \"min\": 1,\n        \"max\": 3,\n        \"num_unique_values\": 3,\n        \"samples\": [\n          3,\n          1\n        ],\n        \"semantic_type\": \"\",\n        \"description\": \"\"\n      }\n    },\n    {\n      \"column\": \"Age\",\n      \"properties\": {\n        \"dtype\": \"number\",\n        \"std\": 13.002015226002882,\n        \"min\": 0.42,\n        \"max\": 80.0,\n        \"num_unique_values\": 89,\n        \"samples\": [\n          59.0,\n          36.5\n        ],\n        \"semantic_type\": \"\",\n        \"description\": \"\"\n      }\n    },\n    {\n      \"column\": \"SibSp\",\n      \"properties\": {\n        \"dtype\": \"number\",\n        \"std\": 1,\n        \"min\": 0,\n        \"max\": 8,\n        \"num_unique_values\": 7,\n        \"samples\": [\n          1,\n          0\n        ],\n        \"semantic_type\": \"\",\n        \"description\": \"\"\n      }\n    },\n    {\n      \"column\": \"Parch\",\n      \"properties\": {\n        \"dtype\": \"number\",\n        \"std\": 0,\n        \"min\": 0,\n        \"max\": 6,\n        \"num_unique_values\": 7,\n        \"samples\": [\n          0,\n          1\n        ],\n        \"semantic_type\": \"\",\n        \"description\": \"\"\n      }\n    },\n    {\n      \"column\": \"Fare\",\n      \"properties\": {\n        \"dtype\": \"number\",\n        \"std\": 49.6934285971809,\n        \"min\": 0.0,\n        \"max\": 512.3292,\n        \"num_unique_values\": 248,\n        \"samples\": [\n          11.2417,\n          51.8625\n        ],\n        \"semantic_type\": \"\",\n        \"description\": \"\"\n      }\n    },\n    {\n      \"column\": \"Sex_0\",\n      \"properties\": {\n        \"dtype\": \"boolean\",\n        \"num_unique_values\": 2,\n        \"samples\": [\n          false,\n          true\n        ],\n        \"semantic_type\": \"\",\n        \"description\": \"\"\n      }\n    },\n    {\n      \"column\": \"Sex_1\",\n      \"properties\": {\n        \"dtype\": \"boolean\",\n        \"num_unique_values\": 2,\n        \"samples\": [\n          true,\n          false\n        ],\n        \"semantic_type\": \"\",\n        \"description\": \"\"\n      }\n    },\n    {\n      \"column\": \"Embarked_0.0\",\n      \"properties\": {\n        \"dtype\": \"boolean\",\n        \"num_unique_values\": 2,\n        \"samples\": [\n          false,\n          true\n        ],\n        \"semantic_type\": \"\",\n        \"description\": \"\"\n      }\n    },\n    {\n      \"column\": \"Embarked_1.0\",\n      \"properties\": {\n        \"dtype\": \"boolean\",\n        \"num_unique_values\": 2,\n        \"samples\": [\n          true,\n          false\n        ],\n        \"semantic_type\": \"\",\n        \"description\": \"\"\n      }\n    },\n    {\n      \"column\": \"Embarked_2.0\",\n      \"properties\": {\n        \"dtype\": \"boolean\",\n        \"num_unique_values\": 2,\n        \"samples\": [\n          true,\n          false\n        ],\n        \"semantic_type\": \"\",\n        \"description\": \"\"\n      }\n    }\n  ]\n}","type":"dataframe","variable_name":"data"},"text/html":["\n","  <div id=\"df-090801c5-adca-4289-a599-5e8b78302df9\" class=\"colab-df-container\">\n","    <div>\n","<style scoped>\n","    .dataframe tbody tr th:only-of-type {\n","        vertical-align: middle;\n","    }\n","\n","    .dataframe tbody tr th {\n","        vertical-align: top;\n","    }\n","\n","    .dataframe thead th {\n","        text-align: right;\n","    }\n","</style>\n","<table border=\"1\" class=\"dataframe\">\n","  <thead>\n","    <tr style=\"text-align: right;\">\n","      <th></th>\n","      <th>Survived</th>\n","      <th>Pclass</th>\n","      <th>Age</th>\n","      <th>SibSp</th>\n","      <th>Parch</th>\n","      <th>Fare</th>\n","      <th>Sex_0</th>\n","      <th>Sex_1</th>\n","      <th>Embarked_0.0</th>\n","      <th>Embarked_1.0</th>\n","      <th>Embarked_2.0</th>\n","    </tr>\n","  </thead>\n","  <tbody>\n","    <tr>\n","      <th>0</th>\n","      <td>0</td>\n","      <td>3</td>\n","      <td>22.0</td>\n","      <td>1</td>\n","      <td>0</td>\n","      <td>7.2500</td>\n","      <td>True</td>\n","      <td>False</td>\n","      <td>True</td>\n","      <td>False</td>\n","      <td>False</td>\n","    </tr>\n","    <tr>\n","      <th>1</th>\n","      <td>1</td>\n","      <td>1</td>\n","      <td>38.0</td>\n","      <td>1</td>\n","      <td>0</td>\n","      <td>71.2833</td>\n","      <td>False</td>\n","      <td>True</td>\n","      <td>False</td>\n","      <td>True</td>\n","      <td>False</td>\n","    </tr>\n","    <tr>\n","      <th>2</th>\n","      <td>1</td>\n","      <td>3</td>\n","      <td>26.0</td>\n","      <td>0</td>\n","      <td>0</td>\n","      <td>7.9250</td>\n","      <td>False</td>\n","      <td>True</td>\n","      <td>True</td>\n","      <td>False</td>\n","      <td>False</td>\n","    </tr>\n","    <tr>\n","      <th>3</th>\n","      <td>1</td>\n","      <td>1</td>\n","      <td>35.0</td>\n","      <td>1</td>\n","      <td>0</td>\n","      <td>53.1000</td>\n","      <td>False</td>\n","      <td>True</td>\n","      <td>True</td>\n","      <td>False</td>\n","      <td>False</td>\n","    </tr>\n","    <tr>\n","      <th>4</th>\n","      <td>0</td>\n","      <td>3</td>\n","      <td>35.0</td>\n","      <td>0</td>\n","      <td>0</td>\n","      <td>8.0500</td>\n","      <td>True</td>\n","      <td>False</td>\n","      <td>True</td>\n","      <td>False</td>\n","      <td>False</td>\n","    </tr>\n","  </tbody>\n","</table>\n","</div>\n","    <div class=\"colab-df-buttons\">\n","\n","  <div class=\"colab-df-container\">\n","    <button class=\"colab-df-convert\" onclick=\"convertToInteractive('df-090801c5-adca-4289-a599-5e8b78302df9')\"\n","            title=\"Convert this dataframe to an interactive table.\"\n","            style=\"display:none;\">\n","\n","  <svg xmlns=\"http://www.w3.org/2000/svg\" height=\"24px\" viewBox=\"0 -960 960 960\">\n","    <path d=\"M120-120v-720h720v720H120Zm60-500h600v-160H180v160Zm220 220h160v-160H400v160Zm0 220h160v-160H400v160ZM180-400h160v-160H180v160Zm440 0h160v-160H620v160ZM180-180h160v-160H180v160Zm440 0h160v-160H620v160Z\"/>\n","  </svg>\n","    </button>\n","\n","  <style>\n","    .colab-df-container {\n","      display:flex;\n","      gap: 12px;\n","    }\n","\n","    .colab-df-convert {\n","      background-color: #E8F0FE;\n","      border: none;\n","      border-radius: 50%;\n","      cursor: pointer;\n","      display: none;\n","      fill: #1967D2;\n","      height: 32px;\n","      padding: 0 0 0 0;\n","      width: 32px;\n","    }\n","\n","    .colab-df-convert:hover {\n","      background-color: #E2EBFA;\n","      box-shadow: 0px 1px 2px rgba(60, 64, 67, 0.3), 0px 1px 3px 1px rgba(60, 64, 67, 0.15);\n","      fill: #174EA6;\n","    }\n","\n","    .colab-df-buttons div {\n","      margin-bottom: 4px;\n","    }\n","\n","    [theme=dark] .colab-df-convert {\n","      background-color: #3B4455;\n","      fill: #D2E3FC;\n","    }\n","\n","    [theme=dark] .colab-df-convert:hover {\n","      background-color: #434B5C;\n","      box-shadow: 0px 1px 3px 1px rgba(0, 0, 0, 0.15);\n","      filter: drop-shadow(0px 1px 2px rgba(0, 0, 0, 0.3));\n","      fill: #FFFFFF;\n","    }\n","  </style>\n","\n","    <script>\n","      const buttonEl =\n","        document.querySelector('#df-090801c5-adca-4289-a599-5e8b78302df9 button.colab-df-convert');\n","      buttonEl.style.display =\n","        google.colab.kernel.accessAllowed ? 'block' : 'none';\n","\n","      async function convertToInteractive(key) {\n","        const element = document.querySelector('#df-090801c5-adca-4289-a599-5e8b78302df9');\n","        const dataTable =\n","          await google.colab.kernel.invokeFunction('convertToInteractive',\n","                                                    [key], {});\n","        if (!dataTable) return;\n","\n","        const docLinkHtml = 'Like what you see? Visit the ' +\n","          '<a target=\"_blank\" href=https://colab.research.google.com/notebooks/data_table.ipynb>data table notebook</a>'\n","          + ' to learn more about interactive tables.';\n","        element.innerHTML = '';\n","        dataTable['output_type'] = 'display_data';\n","        await google.colab.output.renderOutput(dataTable, element);\n","        const docLink = document.createElement('div');\n","        docLink.innerHTML = docLinkHtml;\n","        element.appendChild(docLink);\n","      }\n","    </script>\n","  </div>\n","\n","\n","<div id=\"df-cfb6db68-b4fe-42b7-9f95-d4d246b6a6bd\">\n","  <button class=\"colab-df-quickchart\" onclick=\"quickchart('df-cfb6db68-b4fe-42b7-9f95-d4d246b6a6bd')\"\n","            title=\"Suggest charts\"\n","            style=\"display:none;\">\n","\n","<svg xmlns=\"http://www.w3.org/2000/svg\" height=\"24px\"viewBox=\"0 0 24 24\"\n","     width=\"24px\">\n","    <g>\n","        <path d=\"M19 3H5c-1.1 0-2 .9-2 2v14c0 1.1.9 2 2 2h14c1.1 0 2-.9 2-2V5c0-1.1-.9-2-2-2zM9 17H7v-7h2v7zm4 0h-2V7h2v10zm4 0h-2v-4h2v4z\"/>\n","    </g>\n","</svg>\n","  </button>\n","\n","<style>\n","  .colab-df-quickchart {\n","      --bg-color: #E8F0FE;\n","      --fill-color: #1967D2;\n","      --hover-bg-color: #E2EBFA;\n","      --hover-fill-color: #174EA6;\n","      --disabled-fill-color: #AAA;\n","      --disabled-bg-color: #DDD;\n","  }\n","\n","  [theme=dark] .colab-df-quickchart {\n","      --bg-color: #3B4455;\n","      --fill-color: #D2E3FC;\n","      --hover-bg-color: #434B5C;\n","      --hover-fill-color: #FFFFFF;\n","      --disabled-bg-color: #3B4455;\n","      --disabled-fill-color: #666;\n","  }\n","\n","  .colab-df-quickchart {\n","    background-color: var(--bg-color);\n","    border: none;\n","    border-radius: 50%;\n","    cursor: pointer;\n","    display: none;\n","    fill: var(--fill-color);\n","    height: 32px;\n","    padding: 0;\n","    width: 32px;\n","  }\n","\n","  .colab-df-quickchart:hover {\n","    background-color: var(--hover-bg-color);\n","    box-shadow: 0 1px 2px rgba(60, 64, 67, 0.3), 0 1px 3px 1px rgba(60, 64, 67, 0.15);\n","    fill: var(--button-hover-fill-color);\n","  }\n","\n","  .colab-df-quickchart-complete:disabled,\n","  .colab-df-quickchart-complete:disabled:hover {\n","    background-color: var(--disabled-bg-color);\n","    fill: var(--disabled-fill-color);\n","    box-shadow: none;\n","  }\n","\n","  .colab-df-spinner {\n","    border: 2px solid var(--fill-color);\n","    border-color: transparent;\n","    border-bottom-color: var(--fill-color);\n","    animation:\n","      spin 1s steps(1) infinite;\n","  }\n","\n","  @keyframes spin {\n","    0% {\n","      border-color: transparent;\n","      border-bottom-color: var(--fill-color);\n","      border-left-color: var(--fill-color);\n","    }\n","    20% {\n","      border-color: transparent;\n","      border-left-color: var(--fill-color);\n","      border-top-color: var(--fill-color);\n","    }\n","    30% {\n","      border-color: transparent;\n","      border-left-color: var(--fill-color);\n","      border-top-color: var(--fill-color);\n","      border-right-color: var(--fill-color);\n","    }\n","    40% {\n","      border-color: transparent;\n","      border-right-color: var(--fill-color);\n","      border-top-color: var(--fill-color);\n","    }\n","    60% {\n","      border-color: transparent;\n","      border-right-color: var(--fill-color);\n","    }\n","    80% {\n","      border-color: transparent;\n","      border-right-color: var(--fill-color);\n","      border-bottom-color: var(--fill-color);\n","    }\n","    90% {\n","      border-color: transparent;\n","      border-bottom-color: var(--fill-color);\n","    }\n","  }\n","</style>\n","\n","  <script>\n","    async function quickchart(key) {\n","      const quickchartButtonEl =\n","        document.querySelector('#' + key + ' button');\n","      quickchartButtonEl.disabled = true;  // To prevent multiple clicks.\n","      quickchartButtonEl.classList.add('colab-df-spinner');\n","      try {\n","        const charts = await google.colab.kernel.invokeFunction(\n","            'suggestCharts', [key], {});\n","      } catch (error) {\n","        console.error('Error during call to suggestCharts:', error);\n","      }\n","      quickchartButtonEl.classList.remove('colab-df-spinner');\n","      quickchartButtonEl.classList.add('colab-df-quickchart-complete');\n","    }\n","    (() => {\n","      let quickchartButtonEl =\n","        document.querySelector('#df-cfb6db68-b4fe-42b7-9f95-d4d246b6a6bd button');\n","      quickchartButtonEl.style.display =\n","        google.colab.kernel.accessAllowed ? 'block' : 'none';\n","    })();\n","  </script>\n","</div>\n","\n","    </div>\n","  </div>\n"],"text/plain":["   Survived  Pclass   Age  SibSp  Parch     Fare  Sex_0  Sex_1  Embarked_0.0  \\\n","0         0       3  22.0      1      0   7.2500   True  False          True   \n","1         1       1  38.0      1      0  71.2833  False   True         False   \n","2         1       3  26.0      0      0   7.9250  False   True          True   \n","3         1       1  35.0      1      0  53.1000  False   True          True   \n","4         0       3  35.0      0      0   8.0500   True  False          True   \n","\n","   Embarked_1.0  Embarked_2.0  \n","0         False         False  \n","1          True         False  \n","2         False         False  \n","3         False         False  \n","4         False         False  "]},"execution_count":40,"metadata":{},"output_type":"execute_result"}],"source":["data.head()"]},{"cell_type":"code","execution_count":42,"metadata":{"executionInfo":{"elapsed":575,"status":"ok","timestamp":1715841971076,"user":{"displayName":"Prachi Shah","userId":"10663630855632473570"},"user_tz":-330},"id":"Y033VVsFDkVJ"},"outputs":[],"source":["X = data.drop('Survived', axis=1)\n","y = data['Survived']\n","X_train, X_test, y_train, y_test = train_test_split(X, y, test_size=0.2, random_state=0)"]},{"cell_type":"code","execution_count":43,"metadata":{"colab":{"base_uri":"https://localhost:8080/"},"executionInfo":{"elapsed":979,"status":"ok","timestamp":1715841984622,"user":{"displayName":"Prachi Shah","userId":"10663630855632473570"},"user_tz":-330},"id":"T8MAPIQYDtDV","outputId":"bbd718da-383e-44f9-bf27-2d11f51ad192"},"outputs":[{"name":"stdout","output_type":"stream","text":["Accuracy: 0.770949720670391\n"]}],"source":["from sklearn.model_selection import train_test_split\n","X_train, X_test, y_train, y_test = train_test_split(X, y, test_size=0.2, random_state=0)\n","\n","from sklearn.tree import DecisionTreeClassifier\n","from sklearn.metrics import accuracy_score,confusion_matrix,classification_report\n","clf = DecisionTreeClassifier()\n","clf.fit(X_train, y_train)\n","y_pred = clf.predict(X_test)\n","accuracy = accuracy_score(y_test, y_pred)\n","print('Accuracy:', accuracy)"]},{"cell_type":"code","execution_count":44,"metadata":{"colab":{"base_uri":"https://localhost:8080/"},"executionInfo":{"elapsed":12,"status":"ok","timestamp":1715842059840,"user":{"displayName":"Prachi Shah","userId":"10663630855632473570"},"user_tz":-330},"id":"kSjFZAwjJ_eB","outputId":"65e02de7-4920-4419-8931-34689654c843"},"outputs":[{"name":"stdout","output_type":"stream","text":["Confusion Matrix:\n","[[91 19]\n"," [22 47]]\n"]}],"source":["print(\"Confusion Matrix:\")\n","print(confusion_matrix(y_test, y_pred))"]}],"metadata":{"colab":{"authorship_tag":"ABX9TyMHOLj5fivz+zb/He+Nfrru","provenance":[]},"kernelspec":{"display_name":"Python 3","name":"python3"},"language_info":{"name":"python"}},"nbformat":4,"nbformat_minor":0}
{
  "nbformat": 4,
  "nbformat_minor": 0,
  "metadata": {
    "colab": {
      "provenance": []
    },
    "kernelspec": {
      "name": "python3",
      "display_name": "Python 3"
    },
    "language_info": {
      "name": "python"
    }
  },
  "cells": [
    {
      "cell_type": "markdown",
      "source": [
        "Titanic Survival Prediction"
      ],
      "metadata": {
        "id": "N57fMsTFrDP2"
      }
    },
    {
      "cell_type": "code",
      "execution_count": 16,
      "metadata": {
        "id": "dhvdWqnhiPLM"
      },
      "outputs": [],
      "source": [
        "import numpy as np\n",
        "import pandas as pd\n",
        "\n",
        "#loading dataset\n",
        "data = pd.read_csv('Titanic-Dataset.csv')"
      ]
    },
    {
      "cell_type": "code",
      "source": [
        "data.head()"
      ],
      "metadata": {
        "colab": {
          "base_uri": "https://localhost:8080/",
          "height": 206
        },
        "id": "lf0xfyN1kgnH",
        "outputId": "9e2348e2-c55c-4fd4-d885-30b20a63414e"
      },
      "execution_count": 17,
      "outputs": [
        {
          "output_type": "execute_result",
          "data": {
            "text/plain": [
              "   PassengerId  Survived  Pclass  \\\n",
              "0            1         0       3   \n",
              "1            2         1       1   \n",
              "2            3         1       3   \n",
              "3            4         1       1   \n",
              "4            5         0       3   \n",
              "\n",
              "                                                Name     Sex   Age  SibSp  \\\n",
              "0                            Braund, Mr. Owen Harris    male  22.0      1   \n",
              "1  Cumings, Mrs. John Bradley (Florence Briggs Th...  female  38.0      1   \n",
              "2                             Heikkinen, Miss. Laina  female  26.0      0   \n",
              "3       Futrelle, Mrs. Jacques Heath (Lily May Peel)  female  35.0      1   \n",
              "4                           Allen, Mr. William Henry    male  35.0      0   \n",
              "\n",
              "   Parch            Ticket     Fare Cabin Embarked  \n",
              "0      0         A/5 21171   7.2500   NaN        S  \n",
              "1      0          PC 17599  71.2833   C85        C  \n",
              "2      0  STON/O2. 3101282   7.9250   NaN        S  \n",
              "3      0            113803  53.1000  C123        S  \n",
              "4      0            373450   8.0500   NaN        S  "
            ],
            "text/html": [
              "\n",
              "  <div id=\"df-a54894c0-b38e-40bd-8ada-6881d0b2d791\" class=\"colab-df-container\">\n",
              "    <div>\n",
              "<style scoped>\n",
              "    .dataframe tbody tr th:only-of-type {\n",
              "        vertical-align: middle;\n",
              "    }\n",
              "\n",
              "    .dataframe tbody tr th {\n",
              "        vertical-align: top;\n",
              "    }\n",
              "\n",
              "    .dataframe thead th {\n",
              "        text-align: right;\n",
              "    }\n",
              "</style>\n",
              "<table border=\"1\" class=\"dataframe\">\n",
              "  <thead>\n",
              "    <tr style=\"text-align: right;\">\n",
              "      <th></th>\n",
              "      <th>PassengerId</th>\n",
              "      <th>Survived</th>\n",
              "      <th>Pclass</th>\n",
              "      <th>Name</th>\n",
              "      <th>Sex</th>\n",
              "      <th>Age</th>\n",
              "      <th>SibSp</th>\n",
              "      <th>Parch</th>\n",
              "      <th>Ticket</th>\n",
              "      <th>Fare</th>\n",
              "      <th>Cabin</th>\n",
              "      <th>Embarked</th>\n",
              "    </tr>\n",
              "  </thead>\n",
              "  <tbody>\n",
              "    <tr>\n",
              "      <th>0</th>\n",
              "      <td>1</td>\n",
              "      <td>0</td>\n",
              "      <td>3</td>\n",
              "      <td>Braund, Mr. Owen Harris</td>\n",
              "      <td>male</td>\n",
              "      <td>22.0</td>\n",
              "      <td>1</td>\n",
              "      <td>0</td>\n",
              "      <td>A/5 21171</td>\n",
              "      <td>7.2500</td>\n",
              "      <td>NaN</td>\n",
              "      <td>S</td>\n",
              "    </tr>\n",
              "    <tr>\n",
              "      <th>1</th>\n",
              "      <td>2</td>\n",
              "      <td>1</td>\n",
              "      <td>1</td>\n",
              "      <td>Cumings, Mrs. John Bradley (Florence Briggs Th...</td>\n",
              "      <td>female</td>\n",
              "      <td>38.0</td>\n",
              "      <td>1</td>\n",
              "      <td>0</td>\n",
              "      <td>PC 17599</td>\n",
              "      <td>71.2833</td>\n",
              "      <td>C85</td>\n",
              "      <td>C</td>\n",
              "    </tr>\n",
              "    <tr>\n",
              "      <th>2</th>\n",
              "      <td>3</td>\n",
              "      <td>1</td>\n",
              "      <td>3</td>\n",
              "      <td>Heikkinen, Miss. Laina</td>\n",
              "      <td>female</td>\n",
              "      <td>26.0</td>\n",
              "      <td>0</td>\n",
              "      <td>0</td>\n",
              "      <td>STON/O2. 3101282</td>\n",
              "      <td>7.9250</td>\n",
              "      <td>NaN</td>\n",
              "      <td>S</td>\n",
              "    </tr>\n",
              "    <tr>\n",
              "      <th>3</th>\n",
              "      <td>4</td>\n",
              "      <td>1</td>\n",
              "      <td>1</td>\n",
              "      <td>Futrelle, Mrs. Jacques Heath (Lily May Peel)</td>\n",
              "      <td>female</td>\n",
              "      <td>35.0</td>\n",
              "      <td>1</td>\n",
              "      <td>0</td>\n",
              "      <td>113803</td>\n",
              "      <td>53.1000</td>\n",
              "      <td>C123</td>\n",
              "      <td>S</td>\n",
              "    </tr>\n",
              "    <tr>\n",
              "      <th>4</th>\n",
              "      <td>5</td>\n",
              "      <td>0</td>\n",
              "      <td>3</td>\n",
              "      <td>Allen, Mr. William Henry</td>\n",
              "      <td>male</td>\n",
              "      <td>35.0</td>\n",
              "      <td>0</td>\n",
              "      <td>0</td>\n",
              "      <td>373450</td>\n",
              "      <td>8.0500</td>\n",
              "      <td>NaN</td>\n",
              "      <td>S</td>\n",
              "    </tr>\n",
              "  </tbody>\n",
              "</table>\n",
              "</div>\n",
              "    <div class=\"colab-df-buttons\">\n",
              "\n",
              "  <div class=\"colab-df-container\">\n",
              "    <button class=\"colab-df-convert\" onclick=\"convertToInteractive('df-a54894c0-b38e-40bd-8ada-6881d0b2d791')\"\n",
              "            title=\"Convert this dataframe to an interactive table.\"\n",
              "            style=\"display:none;\">\n",
              "\n",
              "  <svg xmlns=\"http://www.w3.org/2000/svg\" height=\"24px\" viewBox=\"0 -960 960 960\">\n",
              "    <path d=\"M120-120v-720h720v720H120Zm60-500h600v-160H180v160Zm220 220h160v-160H400v160Zm0 220h160v-160H400v160ZM180-400h160v-160H180v160Zm440 0h160v-160H620v160ZM180-180h160v-160H180v160Zm440 0h160v-160H620v160Z\"/>\n",
              "  </svg>\n",
              "    </button>\n",
              "\n",
              "  <style>\n",
              "    .colab-df-container {\n",
              "      display:flex;\n",
              "      gap: 12px;\n",
              "    }\n",
              "\n",
              "    .colab-df-convert {\n",
              "      background-color: #E8F0FE;\n",
              "      border: none;\n",
              "      border-radius: 50%;\n",
              "      cursor: pointer;\n",
              "      display: none;\n",
              "      fill: #1967D2;\n",
              "      height: 32px;\n",
              "      padding: 0 0 0 0;\n",
              "      width: 32px;\n",
              "    }\n",
              "\n",
              "    .colab-df-convert:hover {\n",
              "      background-color: #E2EBFA;\n",
              "      box-shadow: 0px 1px 2px rgba(60, 64, 67, 0.3), 0px 1px 3px 1px rgba(60, 64, 67, 0.15);\n",
              "      fill: #174EA6;\n",
              "    }\n",
              "\n",
              "    .colab-df-buttons div {\n",
              "      margin-bottom: 4px;\n",
              "    }\n",
              "\n",
              "    [theme=dark] .colab-df-convert {\n",
              "      background-color: #3B4455;\n",
              "      fill: #D2E3FC;\n",
              "    }\n",
              "\n",
              "    [theme=dark] .colab-df-convert:hover {\n",
              "      background-color: #434B5C;\n",
              "      box-shadow: 0px 1px 3px 1px rgba(0, 0, 0, 0.15);\n",
              "      filter: drop-shadow(0px 1px 2px rgba(0, 0, 0, 0.3));\n",
              "      fill: #FFFFFF;\n",
              "    }\n",
              "  </style>\n",
              "\n",
              "    <script>\n",
              "      const buttonEl =\n",
              "        document.querySelector('#df-a54894c0-b38e-40bd-8ada-6881d0b2d791 button.colab-df-convert');\n",
              "      buttonEl.style.display =\n",
              "        google.colab.kernel.accessAllowed ? 'block' : 'none';\n",
              "\n",
              "      async function convertToInteractive(key) {\n",
              "        const element = document.querySelector('#df-a54894c0-b38e-40bd-8ada-6881d0b2d791');\n",
              "        const dataTable =\n",
              "          await google.colab.kernel.invokeFunction('convertToInteractive',\n",
              "                                                    [key], {});\n",
              "        if (!dataTable) return;\n",
              "\n",
              "        const docLinkHtml = 'Like what you see? Visit the ' +\n",
              "          '<a target=\"_blank\" href=https://colab.research.google.com/notebooks/data_table.ipynb>data table notebook</a>'\n",
              "          + ' to learn more about interactive tables.';\n",
              "        element.innerHTML = '';\n",
              "        dataTable['output_type'] = 'display_data';\n",
              "        await google.colab.output.renderOutput(dataTable, element);\n",
              "        const docLink = document.createElement('div');\n",
              "        docLink.innerHTML = docLinkHtml;\n",
              "        element.appendChild(docLink);\n",
              "      }\n",
              "    </script>\n",
              "  </div>\n",
              "\n",
              "\n",
              "<div id=\"df-1d26619b-f7b3-4788-b6e2-e614d6ffb025\">\n",
              "  <button class=\"colab-df-quickchart\" onclick=\"quickchart('df-1d26619b-f7b3-4788-b6e2-e614d6ffb025')\"\n",
              "            title=\"Suggest charts\"\n",
              "            style=\"display:none;\">\n",
              "\n",
              "<svg xmlns=\"http://www.w3.org/2000/svg\" height=\"24px\"viewBox=\"0 0 24 24\"\n",
              "     width=\"24px\">\n",
              "    <g>\n",
              "        <path d=\"M19 3H5c-1.1 0-2 .9-2 2v14c0 1.1.9 2 2 2h14c1.1 0 2-.9 2-2V5c0-1.1-.9-2-2-2zM9 17H7v-7h2v7zm4 0h-2V7h2v10zm4 0h-2v-4h2v4z\"/>\n",
              "    </g>\n",
              "</svg>\n",
              "  </button>\n",
              "\n",
              "<style>\n",
              "  .colab-df-quickchart {\n",
              "      --bg-color: #E8F0FE;\n",
              "      --fill-color: #1967D2;\n",
              "      --hover-bg-color: #E2EBFA;\n",
              "      --hover-fill-color: #174EA6;\n",
              "      --disabled-fill-color: #AAA;\n",
              "      --disabled-bg-color: #DDD;\n",
              "  }\n",
              "\n",
              "  [theme=dark] .colab-df-quickchart {\n",
              "      --bg-color: #3B4455;\n",
              "      --fill-color: #D2E3FC;\n",
              "      --hover-bg-color: #434B5C;\n",
              "      --hover-fill-color: #FFFFFF;\n",
              "      --disabled-bg-color: #3B4455;\n",
              "      --disabled-fill-color: #666;\n",
              "  }\n",
              "\n",
              "  .colab-df-quickchart {\n",
              "    background-color: var(--bg-color);\n",
              "    border: none;\n",
              "    border-radius: 50%;\n",
              "    cursor: pointer;\n",
              "    display: none;\n",
              "    fill: var(--fill-color);\n",
              "    height: 32px;\n",
              "    padding: 0;\n",
              "    width: 32px;\n",
              "  }\n",
              "\n",
              "  .colab-df-quickchart:hover {\n",
              "    background-color: var(--hover-bg-color);\n",
              "    box-shadow: 0 1px 2px rgba(60, 64, 67, 0.3), 0 1px 3px 1px rgba(60, 64, 67, 0.15);\n",
              "    fill: var(--button-hover-fill-color);\n",
              "  }\n",
              "\n",
              "  .colab-df-quickchart-complete:disabled,\n",
              "  .colab-df-quickchart-complete:disabled:hover {\n",
              "    background-color: var(--disabled-bg-color);\n",
              "    fill: var(--disabled-fill-color);\n",
              "    box-shadow: none;\n",
              "  }\n",
              "\n",
              "  .colab-df-spinner {\n",
              "    border: 2px solid var(--fill-color);\n",
              "    border-color: transparent;\n",
              "    border-bottom-color: var(--fill-color);\n",
              "    animation:\n",
              "      spin 1s steps(1) infinite;\n",
              "  }\n",
              "\n",
              "  @keyframes spin {\n",
              "    0% {\n",
              "      border-color: transparent;\n",
              "      border-bottom-color: var(--fill-color);\n",
              "      border-left-color: var(--fill-color);\n",
              "    }\n",
              "    20% {\n",
              "      border-color: transparent;\n",
              "      border-left-color: var(--fill-color);\n",
              "      border-top-color: var(--fill-color);\n",
              "    }\n",
              "    30% {\n",
              "      border-color: transparent;\n",
              "      border-left-color: var(--fill-color);\n",
              "      border-top-color: var(--fill-color);\n",
              "      border-right-color: var(--fill-color);\n",
              "    }\n",
              "    40% {\n",
              "      border-color: transparent;\n",
              "      border-right-color: var(--fill-color);\n",
              "      border-top-color: var(--fill-color);\n",
              "    }\n",
              "    60% {\n",
              "      border-color: transparent;\n",
              "      border-right-color: var(--fill-color);\n",
              "    }\n",
              "    80% {\n",
              "      border-color: transparent;\n",
              "      border-right-color: var(--fill-color);\n",
              "      border-bottom-color: var(--fill-color);\n",
              "    }\n",
              "    90% {\n",
              "      border-color: transparent;\n",
              "      border-bottom-color: var(--fill-color);\n",
              "    }\n",
              "  }\n",
              "</style>\n",
              "\n",
              "  <script>\n",
              "    async function quickchart(key) {\n",
              "      const quickchartButtonEl =\n",
              "        document.querySelector('#' + key + ' button');\n",
              "      quickchartButtonEl.disabled = true;  // To prevent multiple clicks.\n",
              "      quickchartButtonEl.classList.add('colab-df-spinner');\n",
              "      try {\n",
              "        const charts = await google.colab.kernel.invokeFunction(\n",
              "            'suggestCharts', [key], {});\n",
              "      } catch (error) {\n",
              "        console.error('Error during call to suggestCharts:', error);\n",
              "      }\n",
              "      quickchartButtonEl.classList.remove('colab-df-spinner');\n",
              "      quickchartButtonEl.classList.add('colab-df-quickchart-complete');\n",
              "    }\n",
              "    (() => {\n",
              "      let quickchartButtonEl =\n",
              "        document.querySelector('#df-1d26619b-f7b3-4788-b6e2-e614d6ffb025 button');\n",
              "      quickchartButtonEl.style.display =\n",
              "        google.colab.kernel.accessAllowed ? 'block' : 'none';\n",
              "    })();\n",
              "  </script>\n",
              "</div>\n",
              "\n",
              "    </div>\n",
              "  </div>\n"
            ],
            "application/vnd.google.colaboratory.intrinsic+json": {
              "type": "dataframe",
              "variable_name": "data",
              "summary": "{\n  \"name\": \"data\",\n  \"rows\": 891,\n  \"fields\": [\n    {\n      \"column\": \"PassengerId\",\n      \"properties\": {\n        \"dtype\": \"number\",\n        \"std\": 257,\n        \"min\": 1,\n        \"max\": 891,\n        \"num_unique_values\": 891,\n        \"samples\": [\n          710,\n          440,\n          841\n        ],\n        \"semantic_type\": \"\",\n        \"description\": \"\"\n      }\n    },\n    {\n      \"column\": \"Survived\",\n      \"properties\": {\n        \"dtype\": \"number\",\n        \"std\": 0,\n        \"min\": 0,\n        \"max\": 1,\n        \"num_unique_values\": 2,\n        \"samples\": [\n          1,\n          0\n        ],\n        \"semantic_type\": \"\",\n        \"description\": \"\"\n      }\n    },\n    {\n      \"column\": \"Pclass\",\n      \"properties\": {\n        \"dtype\": \"number\",\n        \"std\": 0,\n        \"min\": 1,\n        \"max\": 3,\n        \"num_unique_values\": 3,\n        \"samples\": [\n          3,\n          1\n        ],\n        \"semantic_type\": \"\",\n        \"description\": \"\"\n      }\n    },\n    {\n      \"column\": \"Name\",\n      \"properties\": {\n        \"dtype\": \"string\",\n        \"num_unique_values\": 891,\n        \"samples\": [\n          \"Moubarek, Master. Halim Gonios (\\\"William George\\\")\",\n          \"Kvillner, Mr. Johan Henrik Johannesson\"\n        ],\n        \"semantic_type\": \"\",\n        \"description\": \"\"\n      }\n    },\n    {\n      \"column\": \"Sex\",\n      \"properties\": {\n        \"dtype\": \"category\",\n        \"num_unique_values\": 2,\n        \"samples\": [\n          \"female\",\n          \"male\"\n        ],\n        \"semantic_type\": \"\",\n        \"description\": \"\"\n      }\n    },\n    {\n      \"column\": \"Age\",\n      \"properties\": {\n        \"dtype\": \"number\",\n        \"std\": 14.526497332334042,\n        \"min\": 0.42,\n        \"max\": 80.0,\n        \"num_unique_values\": 88,\n        \"samples\": [\n          0.75,\n          22.0\n        ],\n        \"semantic_type\": \"\",\n        \"description\": \"\"\n      }\n    },\n    {\n      \"column\": \"SibSp\",\n      \"properties\": {\n        \"dtype\": \"number\",\n        \"std\": 1,\n        \"min\": 0,\n        \"max\": 8,\n        \"num_unique_values\": 7,\n        \"samples\": [\n          1,\n          0\n        ],\n        \"semantic_type\": \"\",\n        \"description\": \"\"\n      }\n    },\n    {\n      \"column\": \"Parch\",\n      \"properties\": {\n        \"dtype\": \"number\",\n        \"std\": 0,\n        \"min\": 0,\n        \"max\": 6,\n        \"num_unique_values\": 7,\n        \"samples\": [\n          0,\n          1\n        ],\n        \"semantic_type\": \"\",\n        \"description\": \"\"\n      }\n    },\n    {\n      \"column\": \"Ticket\",\n      \"properties\": {\n        \"dtype\": \"string\",\n        \"num_unique_values\": 681,\n        \"samples\": [\n          \"11774\",\n          \"248740\"\n        ],\n        \"semantic_type\": \"\",\n        \"description\": \"\"\n      }\n    },\n    {\n      \"column\": \"Fare\",\n      \"properties\": {\n        \"dtype\": \"number\",\n        \"std\": 49.6934285971809,\n        \"min\": 0.0,\n        \"max\": 512.3292,\n        \"num_unique_values\": 248,\n        \"samples\": [\n          11.2417,\n          51.8625\n        ],\n        \"semantic_type\": \"\",\n        \"description\": \"\"\n      }\n    },\n    {\n      \"column\": \"Cabin\",\n      \"properties\": {\n        \"dtype\": \"category\",\n        \"num_unique_values\": 147,\n        \"samples\": [\n          \"D45\",\n          \"B49\"\n        ],\n        \"semantic_type\": \"\",\n        \"description\": \"\"\n      }\n    },\n    {\n      \"column\": \"Embarked\",\n      \"properties\": {\n        \"dtype\": \"category\",\n        \"num_unique_values\": 3,\n        \"samples\": [\n          \"S\",\n          \"C\"\n        ],\n        \"semantic_type\": \"\",\n        \"description\": \"\"\n      }\n    }\n  ]\n}"
            }
          },
          "metadata": {},
          "execution_count": 17
        }
      ]
    },
    {
      "cell_type": "code",
      "source": [
        "data.shape"
      ],
      "metadata": {
        "colab": {
          "base_uri": "https://localhost:8080/"
        },
        "id": "D8OCmkxFkj9U",
        "outputId": "46660b73-61d1-4fab-a810-fa3db6af5f9f"
      },
      "execution_count": 18,
      "outputs": [
        {
          "output_type": "execute_result",
          "data": {
            "text/plain": [
              "(891, 12)"
            ]
          },
          "metadata": {},
          "execution_count": 18
        }
      ]
    },
    {
      "cell_type": "code",
      "source": [
        "data.info()"
      ],
      "metadata": {
        "colab": {
          "base_uri": "https://localhost:8080/"
        },
        "id": "rTSK2OCPkmCI",
        "outputId": "274b1507-4a3d-434b-c12a-4dc53b3b8dc2"
      },
      "execution_count": 19,
      "outputs": [
        {
          "output_type": "stream",
          "name": "stdout",
          "text": [
            "<class 'pandas.core.frame.DataFrame'>\n",
            "RangeIndex: 891 entries, 0 to 890\n",
            "Data columns (total 12 columns):\n",
            " #   Column       Non-Null Count  Dtype  \n",
            "---  ------       --------------  -----  \n",
            " 0   PassengerId  891 non-null    int64  \n",
            " 1   Survived     891 non-null    int64  \n",
            " 2   Pclass       891 non-null    int64  \n",
            " 3   Name         891 non-null    object \n",
            " 4   Sex          891 non-null    object \n",
            " 5   Age          714 non-null    float64\n",
            " 6   SibSp        891 non-null    int64  \n",
            " 7   Parch        891 non-null    int64  \n",
            " 8   Ticket       891 non-null    object \n",
            " 9   Fare         891 non-null    float64\n",
            " 10  Cabin        204 non-null    object \n",
            " 11  Embarked     889 non-null    object \n",
            "dtypes: float64(2), int64(5), object(5)\n",
            "memory usage: 83.7+ KB\n"
          ]
        }
      ]
    },
    {
      "cell_type": "code",
      "source": [
        "#displaying null values\n",
        "data.isnull().sum()"
      ],
      "metadata": {
        "colab": {
          "base_uri": "https://localhost:8080/"
        },
        "id": "usovEpsmkpTT",
        "outputId": "df1d1d9b-1eb0-424a-e8e6-b23815b56112"
      },
      "execution_count": 20,
      "outputs": [
        {
          "output_type": "execute_result",
          "data": {
            "text/plain": [
              "PassengerId      0\n",
              "Survived         0\n",
              "Pclass           0\n",
              "Name             0\n",
              "Sex              0\n",
              "Age            177\n",
              "SibSp            0\n",
              "Parch            0\n",
              "Ticket           0\n",
              "Fare             0\n",
              "Cabin          687\n",
              "Embarked         2\n",
              "dtype: int64"
            ]
          },
          "metadata": {},
          "execution_count": 20
        }
      ]
    },
    {
      "cell_type": "code",
      "source": [
        "#checking if there are any duplicated entries\n",
        "data.duplicated().sum()"
      ],
      "metadata": {
        "colab": {
          "base_uri": "https://localhost:8080/"
        },
        "id": "Y3QF9x4KkwcC",
        "outputId": "8f71d0ba-1226-4568-97d7-d04e60889981"
      },
      "execution_count": 21,
      "outputs": [
        {
          "output_type": "execute_result",
          "data": {
            "text/plain": [
              "0"
            ]
          },
          "metadata": {},
          "execution_count": 21
        }
      ]
    },
    {
      "cell_type": "code",
      "source": [
        "Survived = data[data[\"Survived\"]==1]\n",
        "Non_Survived = data[data[\"Survived\"]==0]\n",
        "outlier = len(Survived)/float(len(Non_Survived))\n",
        "print(outlier)\n",
        "print(\"Survived : {} \" .format(len(Survived)))\n",
        "print(\"Non_Survived : {} \" .format(len(Non_Survived)))"
      ],
      "metadata": {
        "colab": {
          "base_uri": "https://localhost:8080/"
        },
        "id": "md3RVHW_k0jQ",
        "outputId": "b6caec1d-08e5-4f26-c0ce-715a91bd3acf"
      },
      "execution_count": 22,
      "outputs": [
        {
          "output_type": "stream",
          "name": "stdout",
          "text": [
            "0.6229508196721312\n",
            "Survived : 342 \n",
            "Non_Survived : 549 \n"
          ]
        }
      ]
    },
    {
      "cell_type": "code",
      "source": [
        "import seaborn as sns\n",
        "sns.countplot(x = data['Survived'], hue = data['Pclass'])"
      ],
      "metadata": {
        "colab": {
          "base_uri": "https://localhost:8080/",
          "height": 466
        },
        "id": "7IFEQ6qWlej0",
        "outputId": "03e6f574-270c-4bb4-8371-abafd9616bc1"
      },
      "execution_count": 23,
      "outputs": [
        {
          "output_type": "execute_result",
          "data": {
            "text/plain": [
              "<Axes: xlabel='Survived', ylabel='count'>"
            ]
          },
          "metadata": {},
          "execution_count": 23
        },
        {
          "output_type": "display_data",
          "data": {
            "text/plain": [
              "<Figure size 640x480 with 1 Axes>"
            ],
            "image/png": "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\n"
          },
          "metadata": {}
        }
      ]
    },
    {
      "cell_type": "code",
      "source": [
        "sns.countplot(x = data['Survived'], hue = data['Sex'])"
      ],
      "metadata": {
        "colab": {
          "base_uri": "https://localhost:8080/",
          "height": 466
        },
        "id": "8s7PPDLRl4_c",
        "outputId": "ad8939f9-e804-46f9-d2f4-12bdb53f5712"
      },
      "execution_count": 24,
      "outputs": [
        {
          "output_type": "execute_result",
          "data": {
            "text/plain": [
              "<Axes: xlabel='Survived', ylabel='count'>"
            ]
          },
          "metadata": {},
          "execution_count": 24
        },
        {
          "output_type": "display_data",
          "data": {
            "text/plain": [
              "<Figure size 640x480 with 1 Axes>"
            ],
            "image/png": "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\n"
          },
          "metadata": {}
        }
      ]
    },
    {
      "cell_type": "code",
      "source": [
        "import sklearn\n",
        "from sklearn.model_selection import train_test_split\n",
        "from sklearn.preprocessing import LabelEncoder\n",
        "from sklearn.linear_model import LogisticRegression\n",
        "from sklearn.ensemble import RandomForestClassifier"
      ],
      "metadata": {
        "id": "evlLt-JumF20"
      },
      "execution_count": 25,
      "outputs": []
    },
    {
      "cell_type": "code",
      "source": [
        "labelencoder = LabelEncoder() # Conversion of Categorical values into Numerical values\n",
        "data['Sex'] = labelencoder.fit_transform(data['Sex'])\n",
        "\n",
        "data.head()"
      ],
      "metadata": {
        "colab": {
          "base_uri": "https://localhost:8080/",
          "height": 206
        },
        "id": "PQ7yaPU6mNnX",
        "outputId": "7ef736d9-0c89-4403-91eb-65f6ab878064"
      },
      "execution_count": 28,
      "outputs": [
        {
          "output_type": "execute_result",
          "data": {
            "text/plain": [
              "   PassengerId  Survived  Pclass  \\\n",
              "0            1         0       3   \n",
              "1            2         1       1   \n",
              "2            3         1       3   \n",
              "3            4         1       1   \n",
              "4            5         0       3   \n",
              "\n",
              "                                                Name  Sex   Age  SibSp  Parch  \\\n",
              "0                            Braund, Mr. Owen Harris    1  22.0      1      0   \n",
              "1  Cumings, Mrs. John Bradley (Florence Briggs Th...    0  38.0      1      0   \n",
              "2                             Heikkinen, Miss. Laina    0  26.0      0      0   \n",
              "3       Futrelle, Mrs. Jacques Heath (Lily May Peel)    0  35.0      1      0   \n",
              "4                           Allen, Mr. William Henry    1  35.0      0      0   \n",
              "\n",
              "             Ticket     Fare Cabin Embarked  \n",
              "0         A/5 21171   7.2500   NaN        S  \n",
              "1          PC 17599  71.2833   C85        C  \n",
              "2  STON/O2. 3101282   7.9250   NaN        S  \n",
              "3            113803  53.1000  C123        S  \n",
              "4            373450   8.0500   NaN        S  "
            ],
            "text/html": [
              "\n",
              "  <div id=\"df-098f8e05-a8fb-4247-890f-0324dc02cd23\" class=\"colab-df-container\">\n",
              "    <div>\n",
              "<style scoped>\n",
              "    .dataframe tbody tr th:only-of-type {\n",
              "        vertical-align: middle;\n",
              "    }\n",
              "\n",
              "    .dataframe tbody tr th {\n",
              "        vertical-align: top;\n",
              "    }\n",
              "\n",
              "    .dataframe thead th {\n",
              "        text-align: right;\n",
              "    }\n",
              "</style>\n",
              "<table border=\"1\" class=\"dataframe\">\n",
              "  <thead>\n",
              "    <tr style=\"text-align: right;\">\n",
              "      <th></th>\n",
              "      <th>PassengerId</th>\n",
              "      <th>Survived</th>\n",
              "      <th>Pclass</th>\n",
              "      <th>Name</th>\n",
              "      <th>Sex</th>\n",
              "      <th>Age</th>\n",
              "      <th>SibSp</th>\n",
              "      <th>Parch</th>\n",
              "      <th>Ticket</th>\n",
              "      <th>Fare</th>\n",
              "      <th>Cabin</th>\n",
              "      <th>Embarked</th>\n",
              "    </tr>\n",
              "  </thead>\n",
              "  <tbody>\n",
              "    <tr>\n",
              "      <th>0</th>\n",
              "      <td>1</td>\n",
              "      <td>0</td>\n",
              "      <td>3</td>\n",
              "      <td>Braund, Mr. Owen Harris</td>\n",
              "      <td>1</td>\n",
              "      <td>22.0</td>\n",
              "      <td>1</td>\n",
              "      <td>0</td>\n",
              "      <td>A/5 21171</td>\n",
              "      <td>7.2500</td>\n",
              "      <td>NaN</td>\n",
              "      <td>S</td>\n",
              "    </tr>\n",
              "    <tr>\n",
              "      <th>1</th>\n",
              "      <td>2</td>\n",
              "      <td>1</td>\n",
              "      <td>1</td>\n",
              "      <td>Cumings, Mrs. John Bradley (Florence Briggs Th...</td>\n",
              "      <td>0</td>\n",
              "      <td>38.0</td>\n",
              "      <td>1</td>\n",
              "      <td>0</td>\n",
              "      <td>PC 17599</td>\n",
              "      <td>71.2833</td>\n",
              "      <td>C85</td>\n",
              "      <td>C</td>\n",
              "    </tr>\n",
              "    <tr>\n",
              "      <th>2</th>\n",
              "      <td>3</td>\n",
              "      <td>1</td>\n",
              "      <td>3</td>\n",
              "      <td>Heikkinen, Miss. Laina</td>\n",
              "      <td>0</td>\n",
              "      <td>26.0</td>\n",
              "      <td>0</td>\n",
              "      <td>0</td>\n",
              "      <td>STON/O2. 3101282</td>\n",
              "      <td>7.9250</td>\n",
              "      <td>NaN</td>\n",
              "      <td>S</td>\n",
              "    </tr>\n",
              "    <tr>\n",
              "      <th>3</th>\n",
              "      <td>4</td>\n",
              "      <td>1</td>\n",
              "      <td>1</td>\n",
              "      <td>Futrelle, Mrs. Jacques Heath (Lily May Peel)</td>\n",
              "      <td>0</td>\n",
              "      <td>35.0</td>\n",
              "      <td>1</td>\n",
              "      <td>0</td>\n",
              "      <td>113803</td>\n",
              "      <td>53.1000</td>\n",
              "      <td>C123</td>\n",
              "      <td>S</td>\n",
              "    </tr>\n",
              "    <tr>\n",
              "      <th>4</th>\n",
              "      <td>5</td>\n",
              "      <td>0</td>\n",
              "      <td>3</td>\n",
              "      <td>Allen, Mr. William Henry</td>\n",
              "      <td>1</td>\n",
              "      <td>35.0</td>\n",
              "      <td>0</td>\n",
              "      <td>0</td>\n",
              "      <td>373450</td>\n",
              "      <td>8.0500</td>\n",
              "      <td>NaN</td>\n",
              "      <td>S</td>\n",
              "    </tr>\n",
              "  </tbody>\n",
              "</table>\n",
              "</div>\n",
              "    <div class=\"colab-df-buttons\">\n",
              "\n",
              "  <div class=\"colab-df-container\">\n",
              "    <button class=\"colab-df-convert\" onclick=\"convertToInteractive('df-098f8e05-a8fb-4247-890f-0324dc02cd23')\"\n",
              "            title=\"Convert this dataframe to an interactive table.\"\n",
              "            style=\"display:none;\">\n",
              "\n",
              "  <svg xmlns=\"http://www.w3.org/2000/svg\" height=\"24px\" viewBox=\"0 -960 960 960\">\n",
              "    <path d=\"M120-120v-720h720v720H120Zm60-500h600v-160H180v160Zm220 220h160v-160H400v160Zm0 220h160v-160H400v160ZM180-400h160v-160H180v160Zm440 0h160v-160H620v160ZM180-180h160v-160H180v160Zm440 0h160v-160H620v160Z\"/>\n",
              "  </svg>\n",
              "    </button>\n",
              "\n",
              "  <style>\n",
              "    .colab-df-container {\n",
              "      display:flex;\n",
              "      gap: 12px;\n",
              "    }\n",
              "\n",
              "    .colab-df-convert {\n",
              "      background-color: #E8F0FE;\n",
              "      border: none;\n",
              "      border-radius: 50%;\n",
              "      cursor: pointer;\n",
              "      display: none;\n",
              "      fill: #1967D2;\n",
              "      height: 32px;\n",
              "      padding: 0 0 0 0;\n",
              "      width: 32px;\n",
              "    }\n",
              "\n",
              "    .colab-df-convert:hover {\n",
              "      background-color: #E2EBFA;\n",
              "      box-shadow: 0px 1px 2px rgba(60, 64, 67, 0.3), 0px 1px 3px 1px rgba(60, 64, 67, 0.15);\n",
              "      fill: #174EA6;\n",
              "    }\n",
              "\n",
              "    .colab-df-buttons div {\n",
              "      margin-bottom: 4px;\n",
              "    }\n",
              "\n",
              "    [theme=dark] .colab-df-convert {\n",
              "      background-color: #3B4455;\n",
              "      fill: #D2E3FC;\n",
              "    }\n",
              "\n",
              "    [theme=dark] .colab-df-convert:hover {\n",
              "      background-color: #434B5C;\n",
              "      box-shadow: 0px 1px 3px 1px rgba(0, 0, 0, 0.15);\n",
              "      filter: drop-shadow(0px 1px 2px rgba(0, 0, 0, 0.3));\n",
              "      fill: #FFFFFF;\n",
              "    }\n",
              "  </style>\n",
              "\n",
              "    <script>\n",
              "      const buttonEl =\n",
              "        document.querySelector('#df-098f8e05-a8fb-4247-890f-0324dc02cd23 button.colab-df-convert');\n",
              "      buttonEl.style.display =\n",
              "        google.colab.kernel.accessAllowed ? 'block' : 'none';\n",
              "\n",
              "      async function convertToInteractive(key) {\n",
              "        const element = document.querySelector('#df-098f8e05-a8fb-4247-890f-0324dc02cd23');\n",
              "        const dataTable =\n",
              "          await google.colab.kernel.invokeFunction('convertToInteractive',\n",
              "                                                    [key], {});\n",
              "        if (!dataTable) return;\n",
              "\n",
              "        const docLinkHtml = 'Like what you see? Visit the ' +\n",
              "          '<a target=\"_blank\" href=https://colab.research.google.com/notebooks/data_table.ipynb>data table notebook</a>'\n",
              "          + ' to learn more about interactive tables.';\n",
              "        element.innerHTML = '';\n",
              "        dataTable['output_type'] = 'display_data';\n",
              "        await google.colab.output.renderOutput(dataTable, element);\n",
              "        const docLink = document.createElement('div');\n",
              "        docLink.innerHTML = docLinkHtml;\n",
              "        element.appendChild(docLink);\n",
              "      }\n",
              "    </script>\n",
              "  </div>\n",
              "\n",
              "\n",
              "<div id=\"df-2be36abe-4d50-4a68-8277-a5dd067da0ff\">\n",
              "  <button class=\"colab-df-quickchart\" onclick=\"quickchart('df-2be36abe-4d50-4a68-8277-a5dd067da0ff')\"\n",
              "            title=\"Suggest charts\"\n",
              "            style=\"display:none;\">\n",
              "\n",
              "<svg xmlns=\"http://www.w3.org/2000/svg\" height=\"24px\"viewBox=\"0 0 24 24\"\n",
              "     width=\"24px\">\n",
              "    <g>\n",
              "        <path d=\"M19 3H5c-1.1 0-2 .9-2 2v14c0 1.1.9 2 2 2h14c1.1 0 2-.9 2-2V5c0-1.1-.9-2-2-2zM9 17H7v-7h2v7zm4 0h-2V7h2v10zm4 0h-2v-4h2v4z\"/>\n",
              "    </g>\n",
              "</svg>\n",
              "  </button>\n",
              "\n",
              "<style>\n",
              "  .colab-df-quickchart {\n",
              "      --bg-color: #E8F0FE;\n",
              "      --fill-color: #1967D2;\n",
              "      --hover-bg-color: #E2EBFA;\n",
              "      --hover-fill-color: #174EA6;\n",
              "      --disabled-fill-color: #AAA;\n",
              "      --disabled-bg-color: #DDD;\n",
              "  }\n",
              "\n",
              "  [theme=dark] .colab-df-quickchart {\n",
              "      --bg-color: #3B4455;\n",
              "      --fill-color: #D2E3FC;\n",
              "      --hover-bg-color: #434B5C;\n",
              "      --hover-fill-color: #FFFFFF;\n",
              "      --disabled-bg-color: #3B4455;\n",
              "      --disabled-fill-color: #666;\n",
              "  }\n",
              "\n",
              "  .colab-df-quickchart {\n",
              "    background-color: var(--bg-color);\n",
              "    border: none;\n",
              "    border-radius: 50%;\n",
              "    cursor: pointer;\n",
              "    display: none;\n",
              "    fill: var(--fill-color);\n",
              "    height: 32px;\n",
              "    padding: 0;\n",
              "    width: 32px;\n",
              "  }\n",
              "\n",
              "  .colab-df-quickchart:hover {\n",
              "    background-color: var(--hover-bg-color);\n",
              "    box-shadow: 0 1px 2px rgba(60, 64, 67, 0.3), 0 1px 3px 1px rgba(60, 64, 67, 0.15);\n",
              "    fill: var(--button-hover-fill-color);\n",
              "  }\n",
              "\n",
              "  .colab-df-quickchart-complete:disabled,\n",
              "  .colab-df-quickchart-complete:disabled:hover {\n",
              "    background-color: var(--disabled-bg-color);\n",
              "    fill: var(--disabled-fill-color);\n",
              "    box-shadow: none;\n",
              "  }\n",
              "\n",
              "  .colab-df-spinner {\n",
              "    border: 2px solid var(--fill-color);\n",
              "    border-color: transparent;\n",
              "    border-bottom-color: var(--fill-color);\n",
              "    animation:\n",
              "      spin 1s steps(1) infinite;\n",
              "  }\n",
              "\n",
              "  @keyframes spin {\n",
              "    0% {\n",
              "      border-color: transparent;\n",
              "      border-bottom-color: var(--fill-color);\n",
              "      border-left-color: var(--fill-color);\n",
              "    }\n",
              "    20% {\n",
              "      border-color: transparent;\n",
              "      border-left-color: var(--fill-color);\n",
              "      border-top-color: var(--fill-color);\n",
              "    }\n",
              "    30% {\n",
              "      border-color: transparent;\n",
              "      border-left-color: var(--fill-color);\n",
              "      border-top-color: var(--fill-color);\n",
              "      border-right-color: var(--fill-color);\n",
              "    }\n",
              "    40% {\n",
              "      border-color: transparent;\n",
              "      border-right-color: var(--fill-color);\n",
              "      border-top-color: var(--fill-color);\n",
              "    }\n",
              "    60% {\n",
              "      border-color: transparent;\n",
              "      border-right-color: var(--fill-color);\n",
              "    }\n",
              "    80% {\n",
              "      border-color: transparent;\n",
              "      border-right-color: var(--fill-color);\n",
              "      border-bottom-color: var(--fill-color);\n",
              "    }\n",
              "    90% {\n",
              "      border-color: transparent;\n",
              "      border-bottom-color: var(--fill-color);\n",
              "    }\n",
              "  }\n",
              "</style>\n",
              "\n",
              "  <script>\n",
              "    async function quickchart(key) {\n",
              "      const quickchartButtonEl =\n",
              "        document.querySelector('#' + key + ' button');\n",
              "      quickchartButtonEl.disabled = true;  // To prevent multiple clicks.\n",
              "      quickchartButtonEl.classList.add('colab-df-spinner');\n",
              "      try {\n",
              "        const charts = await google.colab.kernel.invokeFunction(\n",
              "            'suggestCharts', [key], {});\n",
              "      } catch (error) {\n",
              "        console.error('Error during call to suggestCharts:', error);\n",
              "      }\n",
              "      quickchartButtonEl.classList.remove('colab-df-spinner');\n",
              "      quickchartButtonEl.classList.add('colab-df-quickchart-complete');\n",
              "    }\n",
              "    (() => {\n",
              "      let quickchartButtonEl =\n",
              "        document.querySelector('#df-2be36abe-4d50-4a68-8277-a5dd067da0ff button');\n",
              "      quickchartButtonEl.style.display =\n",
              "        google.colab.kernel.accessAllowed ? 'block' : 'none';\n",
              "    })();\n",
              "  </script>\n",
              "</div>\n",
              "\n",
              "    </div>\n",
              "  </div>\n"
            ],
            "application/vnd.google.colaboratory.intrinsic+json": {
              "type": "dataframe",
              "variable_name": "data",
              "summary": "{\n  \"name\": \"data\",\n  \"rows\": 891,\n  \"fields\": [\n    {\n      \"column\": \"PassengerId\",\n      \"properties\": {\n        \"dtype\": \"number\",\n        \"std\": 257,\n        \"min\": 1,\n        \"max\": 891,\n        \"num_unique_values\": 891,\n        \"samples\": [\n          710,\n          440,\n          841\n        ],\n        \"semantic_type\": \"\",\n        \"description\": \"\"\n      }\n    },\n    {\n      \"column\": \"Survived\",\n      \"properties\": {\n        \"dtype\": \"number\",\n        \"std\": 0,\n        \"min\": 0,\n        \"max\": 1,\n        \"num_unique_values\": 2,\n        \"samples\": [\n          1,\n          0\n        ],\n        \"semantic_type\": \"\",\n        \"description\": \"\"\n      }\n    },\n    {\n      \"column\": \"Pclass\",\n      \"properties\": {\n        \"dtype\": \"number\",\n        \"std\": 0,\n        \"min\": 1,\n        \"max\": 3,\n        \"num_unique_values\": 3,\n        \"samples\": [\n          3,\n          1\n        ],\n        \"semantic_type\": \"\",\n        \"description\": \"\"\n      }\n    },\n    {\n      \"column\": \"Name\",\n      \"properties\": {\n        \"dtype\": \"string\",\n        \"num_unique_values\": 891,\n        \"samples\": [\n          \"Moubarek, Master. Halim Gonios (\\\"William George\\\")\",\n          \"Kvillner, Mr. Johan Henrik Johannesson\"\n        ],\n        \"semantic_type\": \"\",\n        \"description\": \"\"\n      }\n    },\n    {\n      \"column\": \"Sex\",\n      \"properties\": {\n        \"dtype\": \"number\",\n        \"std\": 0,\n        \"min\": 0,\n        \"max\": 1,\n        \"num_unique_values\": 2,\n        \"samples\": [\n          0,\n          1\n        ],\n        \"semantic_type\": \"\",\n        \"description\": \"\"\n      }\n    },\n    {\n      \"column\": \"Age\",\n      \"properties\": {\n        \"dtype\": \"number\",\n        \"std\": 14.526497332334042,\n        \"min\": 0.42,\n        \"max\": 80.0,\n        \"num_unique_values\": 88,\n        \"samples\": [\n          0.75,\n          22.0\n        ],\n        \"semantic_type\": \"\",\n        \"description\": \"\"\n      }\n    },\n    {\n      \"column\": \"SibSp\",\n      \"properties\": {\n        \"dtype\": \"number\",\n        \"std\": 1,\n        \"min\": 0,\n        \"max\": 8,\n        \"num_unique_values\": 7,\n        \"samples\": [\n          1,\n          0\n        ],\n        \"semantic_type\": \"\",\n        \"description\": \"\"\n      }\n    },\n    {\n      \"column\": \"Parch\",\n      \"properties\": {\n        \"dtype\": \"number\",\n        \"std\": 0,\n        \"min\": 0,\n        \"max\": 6,\n        \"num_unique_values\": 7,\n        \"samples\": [\n          0,\n          1\n        ],\n        \"semantic_type\": \"\",\n        \"description\": \"\"\n      }\n    },\n    {\n      \"column\": \"Ticket\",\n      \"properties\": {\n        \"dtype\": \"string\",\n        \"num_unique_values\": 681,\n        \"samples\": [\n          \"11774\",\n          \"248740\"\n        ],\n        \"semantic_type\": \"\",\n        \"description\": \"\"\n      }\n    },\n    {\n      \"column\": \"Fare\",\n      \"properties\": {\n        \"dtype\": \"number\",\n        \"std\": 49.6934285971809,\n        \"min\": 0.0,\n        \"max\": 512.3292,\n        \"num_unique_values\": 248,\n        \"samples\": [\n          11.2417,\n          51.8625\n        ],\n        \"semantic_type\": \"\",\n        \"description\": \"\"\n      }\n    },\n    {\n      \"column\": \"Cabin\",\n      \"properties\": {\n        \"dtype\": \"category\",\n        \"num_unique_values\": 147,\n        \"samples\": [\n          \"D45\",\n          \"B49\"\n        ],\n        \"semantic_type\": \"\",\n        \"description\": \"\"\n      }\n    },\n    {\n      \"column\": \"Embarked\",\n      \"properties\": {\n        \"dtype\": \"category\",\n        \"num_unique_values\": 3,\n        \"samples\": [\n          \"S\",\n          \"C\"\n        ],\n        \"semantic_type\": \"\",\n        \"description\": \"\"\n      }\n    }\n  ]\n}"
            }
          },
          "metadata": {},
          "execution_count": 28
        }
      ]
    },
    {
      "cell_type": "code",
      "source": [
        "features = data[[\"Pclass\", \"Sex\", \"Age\", \"SibSp\", \"Parch\", \"Fare\"]]\n",
        "target = data[\"Survived\"]"
      ],
      "metadata": {
        "id": "fp8QO7cOoGd2"
      },
      "execution_count": 29,
      "outputs": []
    },
    {
      "cell_type": "code",
      "source": [
        "data['Age'].fillna(data['Age'].median(), inplace = True)"
      ],
      "metadata": {
        "id": "GIxsTjg8oLVf"
      },
      "execution_count": 30,
      "outputs": []
    },
    {
      "cell_type": "code",
      "source": [
        "data.isnull().sum()"
      ],
      "metadata": {
        "colab": {
          "base_uri": "https://localhost:8080/"
        },
        "id": "ZClCnzpwoX-Y",
        "outputId": "52364acd-262a-4d2e-d733-0b0027b50641"
      },
      "execution_count": 31,
      "outputs": [
        {
          "output_type": "execute_result",
          "data": {
            "text/plain": [
              "PassengerId      0\n",
              "Survived         0\n",
              "Pclass           0\n",
              "Name             0\n",
              "Sex              0\n",
              "Age              0\n",
              "SibSp            0\n",
              "Parch            0\n",
              "Ticket           0\n",
              "Fare             0\n",
              "Cabin          687\n",
              "Embarked         2\n",
              "dtype: int64"
            ]
          },
          "metadata": {},
          "execution_count": 31
        }
      ]
    },
    {
      "cell_type": "code",
      "source": [
        "x = data[['Pclass','Sex']]\n",
        "y = target"
      ],
      "metadata": {
        "id": "Sz9hQevHoe3q"
      },
      "execution_count": 32,
      "outputs": []
    },
    {
      "cell_type": "code",
      "source": [
        "x_train, x_test, y_train, y_test = train_test_split(features,y,test_size = 0.2, random_state = 0)\n",
        "\n",
        "from sklearn.impute import SimpleImputer\n",
        "imputer = SimpleImputer(strategy = 'mean')\n",
        "x_train_imputed = imputer.fit_transform(x_train)\n",
        "x_test_imputed = imputer.transform(x_test)"
      ],
      "metadata": {
        "id": "2HImnKUBo3CX"
      },
      "execution_count": 39,
      "outputs": []
    },
    {
      "cell_type": "code",
      "source": [
        "model = RandomForestClassifier()\n",
        "model.fit(x_train_imputed, y_train)"
      ],
      "metadata": {
        "colab": {
          "base_uri": "https://localhost:8080/",
          "height": 74
        },
        "id": "8d652gTkpzAv",
        "outputId": "810d8089-ba02-4eea-9d5f-8ce99e40236d"
      },
      "execution_count": 40,
      "outputs": [
        {
          "output_type": "execute_result",
          "data": {
            "text/plain": [
              "RandomForestClassifier()"
            ],
            "text/html": [
              "<style>#sk-container-id-2 {color: black;background-color: white;}#sk-container-id-2 pre{padding: 0;}#sk-container-id-2 div.sk-toggleable {background-color: white;}#sk-container-id-2 label.sk-toggleable__label {cursor: pointer;display: block;width: 100%;margin-bottom: 0;padding: 0.3em;box-sizing: border-box;text-align: center;}#sk-container-id-2 label.sk-toggleable__label-arrow:before {content: \"▸\";float: left;margin-right: 0.25em;color: #696969;}#sk-container-id-2 label.sk-toggleable__label-arrow:hover:before {color: black;}#sk-container-id-2 div.sk-estimator:hover label.sk-toggleable__label-arrow:before {color: black;}#sk-container-id-2 div.sk-toggleable__content {max-height: 0;max-width: 0;overflow: hidden;text-align: left;background-color: #f0f8ff;}#sk-container-id-2 div.sk-toggleable__content pre {margin: 0.2em;color: black;border-radius: 0.25em;background-color: #f0f8ff;}#sk-container-id-2 input.sk-toggleable__control:checked~div.sk-toggleable__content {max-height: 200px;max-width: 100%;overflow: auto;}#sk-container-id-2 input.sk-toggleable__control:checked~label.sk-toggleable__label-arrow:before {content: \"▾\";}#sk-container-id-2 div.sk-estimator input.sk-toggleable__control:checked~label.sk-toggleable__label {background-color: #d4ebff;}#sk-container-id-2 div.sk-label input.sk-toggleable__control:checked~label.sk-toggleable__label {background-color: #d4ebff;}#sk-container-id-2 input.sk-hidden--visually {border: 0;clip: rect(1px 1px 1px 1px);clip: rect(1px, 1px, 1px, 1px);height: 1px;margin: -1px;overflow: hidden;padding: 0;position: absolute;width: 1px;}#sk-container-id-2 div.sk-estimator {font-family: monospace;background-color: #f0f8ff;border: 1px dotted black;border-radius: 0.25em;box-sizing: border-box;margin-bottom: 0.5em;}#sk-container-id-2 div.sk-estimator:hover {background-color: #d4ebff;}#sk-container-id-2 div.sk-parallel-item::after {content: \"\";width: 100%;border-bottom: 1px solid gray;flex-grow: 1;}#sk-container-id-2 div.sk-label:hover label.sk-toggleable__label {background-color: #d4ebff;}#sk-container-id-2 div.sk-serial::before {content: \"\";position: absolute;border-left: 1px solid gray;box-sizing: border-box;top: 0;bottom: 0;left: 50%;z-index: 0;}#sk-container-id-2 div.sk-serial {display: flex;flex-direction: column;align-items: center;background-color: white;padding-right: 0.2em;padding-left: 0.2em;position: relative;}#sk-container-id-2 div.sk-item {position: relative;z-index: 1;}#sk-container-id-2 div.sk-parallel {display: flex;align-items: stretch;justify-content: center;background-color: white;position: relative;}#sk-container-id-2 div.sk-item::before, #sk-container-id-2 div.sk-parallel-item::before {content: \"\";position: absolute;border-left: 1px solid gray;box-sizing: border-box;top: 0;bottom: 0;left: 50%;z-index: -1;}#sk-container-id-2 div.sk-parallel-item {display: flex;flex-direction: column;z-index: 1;position: relative;background-color: white;}#sk-container-id-2 div.sk-parallel-item:first-child::after {align-self: flex-end;width: 50%;}#sk-container-id-2 div.sk-parallel-item:last-child::after {align-self: flex-start;width: 50%;}#sk-container-id-2 div.sk-parallel-item:only-child::after {width: 0;}#sk-container-id-2 div.sk-dashed-wrapped {border: 1px dashed gray;margin: 0 0.4em 0.5em 0.4em;box-sizing: border-box;padding-bottom: 0.4em;background-color: white;}#sk-container-id-2 div.sk-label label {font-family: monospace;font-weight: bold;display: inline-block;line-height: 1.2em;}#sk-container-id-2 div.sk-label-container {text-align: center;}#sk-container-id-2 div.sk-container {/* jupyter's `normalize.less` sets `[hidden] { display: none; }` but bootstrap.min.css set `[hidden] { display: none !important; }` so we also need the `!important` here to be able to override the default hidden behavior on the sphinx rendered scikit-learn.org. See: https://github.com/scikit-learn/scikit-learn/issues/21755 */display: inline-block !important;position: relative;}#sk-container-id-2 div.sk-text-repr-fallback {display: none;}</style><div id=\"sk-container-id-2\" class=\"sk-top-container\"><div class=\"sk-text-repr-fallback\"><pre>RandomForestClassifier()</pre><b>In a Jupyter environment, please rerun this cell to show the HTML representation or trust the notebook. <br />On GitHub, the HTML representation is unable to render, please try loading this page with nbviewer.org.</b></div><div class=\"sk-container\" hidden><div class=\"sk-item\"><div class=\"sk-estimator sk-toggleable\"><input class=\"sk-toggleable__control sk-hidden--visually\" id=\"sk-estimator-id-2\" type=\"checkbox\" checked><label for=\"sk-estimator-id-2\" class=\"sk-toggleable__label sk-toggleable__label-arrow\">RandomForestClassifier</label><div class=\"sk-toggleable__content\"><pre>RandomForestClassifier()</pre></div></div></div></div></div>"
            ]
          },
          "metadata": {},
          "execution_count": 40
        }
      ]
    },
    {
      "cell_type": "code",
      "source": [
        "predictions = model.predict(x_test_imputed)"
      ],
      "metadata": {
        "id": "S3seMvClp6cG"
      },
      "execution_count": 41,
      "outputs": []
    },
    {
      "cell_type": "code",
      "source": [
        "from sklearn.metrics import accuracy_score, precision_score , recall_score , f1_score\n",
        "acc = accuracy_score(y_test , predictions)\n",
        "print(\"The accuracy is {}\".format(acc))\n",
        "\n",
        "prec = precision_score(y_test , predictions)\n",
        "print(\"The precision is {}\".format(prec))\n",
        "\n",
        "rec = recall_score(y_test , predictions)\n",
        "print(\"The recall is {}\".format(rec))\n",
        "\n",
        "f1 = f1_score(y_test , predictions)\n",
        "print(\"The F1-Score is {}\".format(f1))"
      ],
      "metadata": {
        "colab": {
          "base_uri": "https://localhost:8080/"
        },
        "id": "Hbu9y5WyqJgz",
        "outputId": "5558f535-8977-4118-ea5e-0b47e7025c6b"
      },
      "execution_count": 42,
      "outputs": [
        {
          "output_type": "stream",
          "name": "stdout",
          "text": [
            "The accuracy is 0.8212290502793296\n",
            "The precision is 0.8135593220338984\n",
            "The recall is 0.6956521739130435\n",
            "The F1-Score is 0.75\n"
          ]
        }
      ]
    },
    {
      "cell_type": "code",
      "source": [
        "import joblib\n",
        "joblib.dump(model,\"Titanic_Survival\")"
      ],
      "metadata": {
        "colab": {
          "base_uri": "https://localhost:8080/"
        },
        "id": "8p4r9IYwqZRM",
        "outputId": "015b64d6-fe2e-49a5-d59b-eba5dd0c0916"
      },
      "execution_count": 43,
      "outputs": [
        {
          "output_type": "execute_result",
          "data": {
            "text/plain": [
              "['Titanic_Survival']"
            ]
          },
          "metadata": {},
          "execution_count": 43
        }
      ]
    },
    {
      "cell_type": "code",
      "source": [
        "m = joblib.load(\"Titanic_Survival\")"
      ],
      "metadata": {
        "id": "d-ySMCJqqcCy"
      },
      "execution_count": 46,
      "outputs": []
    },
    {
      "cell_type": "code",
      "source": [
        "prediction  = m.predict([[1,1,0,1,1,1]])\n",
        "prediction"
      ],
      "metadata": {
        "colab": {
          "base_uri": "https://localhost:8080/"
        },
        "id": "O_1ZfGRrqqFR",
        "outputId": "f042a1eb-8604-4969-f313-522a4fff50d4"
      },
      "execution_count": 47,
      "outputs": [
        {
          "output_type": "execute_result",
          "data": {
            "text/plain": [
              "array([1])"
            ]
          },
          "metadata": {},
          "execution_count": 47
        }
      ]
    },
    {
      "cell_type": "code",
      "source": [
        "if prediction==0:\n",
        "  print(\"Did not survive\")\n",
        "else:\n",
        "  print(\"Survived\")"
      ],
      "metadata": {
        "colab": {
          "base_uri": "https://localhost:8080/"
        },
        "id": "czKX7-IEqvXA",
        "outputId": "2453f809-8589-47c9-faae-1ca20cb075d1"
      },
      "execution_count": 48,
      "outputs": [
        {
          "output_type": "stream",
          "name": "stdout",
          "text": [
            "Survived\n"
          ]
        }
      ]
    }
  ]
}
